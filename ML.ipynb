{
 "cells": [
  {
   "cell_type": "code",
   "execution_count": 1,
   "id": "df8fd448",
   "metadata": {
    "ExecuteTime": {
     "end_time": "2024-02-26T18:32:44.319243Z",
     "start_time": "2024-02-26T18:32:43.450411Z"
    }
   },
   "outputs": [],
   "source": [
    "import warnings\n",
    "warnings.simplefilter(\"ignore\")\n",
    "import pandas as pd"
   ]
  },
  {
   "cell_type": "code",
   "execution_count": 2,
   "id": "76fcd1b4",
   "metadata": {
    "ExecuteTime": {
     "end_time": "2024-02-26T18:32:44.366182Z",
     "start_time": "2024-02-26T18:32:44.322736Z"
    }
   },
   "outputs": [],
   "source": [
    "r= pd.read_csv(r\"BigMart_Sales.csv\")"
   ]
  },
  {
   "cell_type": "code",
   "execution_count": 3,
   "id": "c67a590a",
   "metadata": {
    "ExecuteTime": {
     "end_time": "2024-02-26T18:32:44.393435Z",
     "start_time": "2024-02-26T18:32:44.368196Z"
    }
   },
   "outputs": [
    {
     "data": {
      "text/html": [
       "<div>\n",
       "<style scoped>\n",
       "    .dataframe tbody tr th:only-of-type {\n",
       "        vertical-align: middle;\n",
       "    }\n",
       "\n",
       "    .dataframe tbody tr th {\n",
       "        vertical-align: top;\n",
       "    }\n",
       "\n",
       "    .dataframe thead th {\n",
       "        text-align: right;\n",
       "    }\n",
       "</style>\n",
       "<table border=\"1\" class=\"dataframe\">\n",
       "  <thead>\n",
       "    <tr style=\"text-align: right;\">\n",
       "      <th></th>\n",
       "      <th>Item_Identifier</th>\n",
       "      <th>Item_Weight</th>\n",
       "      <th>Item_Fat_Content</th>\n",
       "      <th>Item_Visibility</th>\n",
       "      <th>Item_Type</th>\n",
       "      <th>Item_MRP</th>\n",
       "      <th>Outlet_Identifier</th>\n",
       "      <th>Outlet_Establishment_Year</th>\n",
       "      <th>Outlet_Size</th>\n",
       "      <th>Outlet_Location_Type</th>\n",
       "      <th>Outlet_Type</th>\n",
       "      <th>Item_Outlet_Sales</th>\n",
       "    </tr>\n",
       "  </thead>\n",
       "  <tbody>\n",
       "    <tr>\n",
       "      <th>0</th>\n",
       "      <td>FDA15</td>\n",
       "      <td>9.30</td>\n",
       "      <td>Low Fat</td>\n",
       "      <td>0.016047</td>\n",
       "      <td>Dairy</td>\n",
       "      <td>249.8092</td>\n",
       "      <td>OUT049</td>\n",
       "      <td>1999</td>\n",
       "      <td>Medium</td>\n",
       "      <td>Tier 1</td>\n",
       "      <td>Supermarket</td>\n",
       "      <td>3735.1380</td>\n",
       "    </tr>\n",
       "    <tr>\n",
       "      <th>1</th>\n",
       "      <td>DRC01</td>\n",
       "      <td>5.92</td>\n",
       "      <td>Regular</td>\n",
       "      <td>0.019278</td>\n",
       "      <td>Soft Drinks</td>\n",
       "      <td>48.2692</td>\n",
       "      <td>OUT018</td>\n",
       "      <td>2009</td>\n",
       "      <td>Medium</td>\n",
       "      <td>Tier 3</td>\n",
       "      <td>Supermarket</td>\n",
       "      <td>443.4228</td>\n",
       "    </tr>\n",
       "    <tr>\n",
       "      <th>2</th>\n",
       "      <td>FDN15</td>\n",
       "      <td>17.50</td>\n",
       "      <td>Low Fat</td>\n",
       "      <td>0.016760</td>\n",
       "      <td>Meat</td>\n",
       "      <td>141.6180</td>\n",
       "      <td>OUT049</td>\n",
       "      <td>1999</td>\n",
       "      <td>Medium</td>\n",
       "      <td>Tier 1</td>\n",
       "      <td>Supermarket</td>\n",
       "      <td>2097.2700</td>\n",
       "    </tr>\n",
       "    <tr>\n",
       "      <th>3</th>\n",
       "      <td>FDX07</td>\n",
       "      <td>19.20</td>\n",
       "      <td>Regular</td>\n",
       "      <td>0.000000</td>\n",
       "      <td>Fruits and Vegetables</td>\n",
       "      <td>182.0950</td>\n",
       "      <td>OUT010</td>\n",
       "      <td>1998</td>\n",
       "      <td>NaN</td>\n",
       "      <td>Tier 3</td>\n",
       "      <td>Grocery Store</td>\n",
       "      <td>732.3800</td>\n",
       "    </tr>\n",
       "    <tr>\n",
       "      <th>4</th>\n",
       "      <td>NCD19</td>\n",
       "      <td>8.93</td>\n",
       "      <td>Low Fat</td>\n",
       "      <td>0.000000</td>\n",
       "      <td>Household</td>\n",
       "      <td>53.8614</td>\n",
       "      <td>OUT013</td>\n",
       "      <td>1987</td>\n",
       "      <td>High</td>\n",
       "      <td>Tier 3</td>\n",
       "      <td>Supermarket</td>\n",
       "      <td>994.7052</td>\n",
       "    </tr>\n",
       "  </tbody>\n",
       "</table>\n",
       "</div>"
      ],
      "text/plain": [
       "  Item_Identifier  Item_Weight Item_Fat_Content  Item_Visibility  \\\n",
       "0           FDA15         9.30          Low Fat         0.016047   \n",
       "1           DRC01         5.92          Regular         0.019278   \n",
       "2           FDN15        17.50          Low Fat         0.016760   \n",
       "3           FDX07        19.20          Regular         0.000000   \n",
       "4           NCD19         8.93          Low Fat         0.000000   \n",
       "\n",
       "               Item_Type  Item_MRP Outlet_Identifier  \\\n",
       "0                  Dairy  249.8092            OUT049   \n",
       "1            Soft Drinks   48.2692            OUT018   \n",
       "2                   Meat  141.6180            OUT049   \n",
       "3  Fruits and Vegetables  182.0950            OUT010   \n",
       "4              Household   53.8614            OUT013   \n",
       "\n",
       "   Outlet_Establishment_Year Outlet_Size Outlet_Location_Type    Outlet_Type  \\\n",
       "0                       1999      Medium               Tier 1    Supermarket   \n",
       "1                       2009      Medium               Tier 3    Supermarket   \n",
       "2                       1999      Medium               Tier 1    Supermarket   \n",
       "3                       1998         NaN               Tier 3  Grocery Store   \n",
       "4                       1987        High               Tier 3    Supermarket   \n",
       "\n",
       "   Item_Outlet_Sales  \n",
       "0          3735.1380  \n",
       "1           443.4228  \n",
       "2          2097.2700  \n",
       "3           732.3800  \n",
       "4           994.7052  "
      ]
     },
     "execution_count": 3,
     "metadata": {},
     "output_type": "execute_result"
    }
   ],
   "source": [
    "r.head()"
   ]
  },
  {
   "cell_type": "code",
   "execution_count": 4,
   "id": "5c88c4dd",
   "metadata": {
    "ExecuteTime": {
     "end_time": "2024-02-26T18:32:44.403481Z",
     "start_time": "2024-02-26T18:32:44.397743Z"
    }
   },
   "outputs": [],
   "source": [
    "df = r[['Item_Fat_Content','Item_Type','Outlet_Size','Outlet_Type','Item_Outlet_Sales','Item_MRP']]"
   ]
  },
  {
   "cell_type": "code",
   "execution_count": 5,
   "id": "6bca92ad",
   "metadata": {
    "ExecuteTime": {
     "end_time": "2024-02-26T18:32:44.416941Z",
     "start_time": "2024-02-26T18:32:44.406679Z"
    }
   },
   "outputs": [
    {
     "data": {
      "text/plain": [
       "Item_Fat_Content        0\n",
       "Item_Type               0\n",
       "Outlet_Size          2410\n",
       "Outlet_Type             0\n",
       "Item_Outlet_Sales       0\n",
       "Item_MRP                0\n",
       "dtype: int64"
      ]
     },
     "execution_count": 5,
     "metadata": {},
     "output_type": "execute_result"
    }
   ],
   "source": [
    "df.isnull().sum()"
   ]
  },
  {
   "cell_type": "code",
   "execution_count": 6,
   "id": "97346d02",
   "metadata": {
    "ExecuteTime": {
     "end_time": "2024-02-26T18:32:44.427615Z",
     "start_time": "2024-02-26T18:32:44.419956Z"
    }
   },
   "outputs": [
    {
     "data": {
      "text/plain": [
       "Index(['Item_Fat_Content', 'Item_Type', 'Outlet_Size', 'Outlet_Type',\n",
       "       'Item_Outlet_Sales', 'Item_MRP'],\n",
       "      dtype='object')"
      ]
     },
     "execution_count": 6,
     "metadata": {},
     "output_type": "execute_result"
    }
   ],
   "source": [
    "df.columns"
   ]
  },
  {
   "cell_type": "code",
   "execution_count": 7,
   "id": "cb086a5f",
   "metadata": {
    "ExecuteTime": {
     "end_time": "2024-02-26T18:32:44.437394Z",
     "start_time": "2024-02-26T18:32:44.430864Z"
    }
   },
   "outputs": [],
   "source": [
    "df['Outlet_Size'].fillna('Undefined', inplace=True)"
   ]
  },
  {
   "cell_type": "code",
   "execution_count": 8,
   "id": "ab1cfd9f",
   "metadata": {
    "ExecuteTime": {
     "end_time": "2024-02-26T18:32:44.454161Z",
     "start_time": "2024-02-26T18:32:44.440888Z"
    }
   },
   "outputs": [
    {
     "data": {
      "text/plain": [
       "Item_Fat_Content     0\n",
       "Item_Type            0\n",
       "Outlet_Size          0\n",
       "Outlet_Type          0\n",
       "Item_Outlet_Sales    0\n",
       "Item_MRP             0\n",
       "dtype: int64"
      ]
     },
     "execution_count": 8,
     "metadata": {},
     "output_type": "execute_result"
    }
   ],
   "source": [
    "df.isnull().sum()"
   ]
  },
  {
   "cell_type": "code",
   "execution_count": 9,
   "id": "73c063b4",
   "metadata": {
    "ExecuteTime": {
     "end_time": "2024-02-26T18:32:44.470058Z",
     "start_time": "2024-02-26T18:32:44.456183Z"
    }
   },
   "outputs": [
    {
     "data": {
      "text/plain": [
       "Outlet_Size\n",
       "Medium       2793\n",
       "Undefined    2410\n",
       "Small        2388\n",
       "High          932\n",
       "Name: count, dtype: int64"
      ]
     },
     "execution_count": 9,
     "metadata": {},
     "output_type": "execute_result"
    }
   ],
   "source": [
    "df['Outlet_Size'].value_counts()"
   ]
  },
  {
   "cell_type": "code",
   "execution_count": 10,
   "id": "1ebc024e",
   "metadata": {
    "ExecuteTime": {
     "end_time": "2024-02-26T18:32:44.484093Z",
     "start_time": "2024-02-26T18:32:44.474076Z"
    }
   },
   "outputs": [],
   "source": [
    "duplicate_rows = df[df.duplicated()]"
   ]
  },
  {
   "cell_type": "code",
   "execution_count": 11,
   "id": "7024ae5e",
   "metadata": {
    "ExecuteTime": {
     "end_time": "2024-02-26T18:32:44.496570Z",
     "start_time": "2024-02-26T18:32:44.486104Z"
    }
   },
   "outputs": [
    {
     "data": {
      "text/html": [
       "<div>\n",
       "<style scoped>\n",
       "    .dataframe tbody tr th:only-of-type {\n",
       "        vertical-align: middle;\n",
       "    }\n",
       "\n",
       "    .dataframe tbody tr th {\n",
       "        vertical-align: top;\n",
       "    }\n",
       "\n",
       "    .dataframe thead th {\n",
       "        text-align: right;\n",
       "    }\n",
       "</style>\n",
       "<table border=\"1\" class=\"dataframe\">\n",
       "  <thead>\n",
       "    <tr style=\"text-align: right;\">\n",
       "      <th></th>\n",
       "      <th>Item_Fat_Content</th>\n",
       "      <th>Item_Type</th>\n",
       "      <th>Outlet_Size</th>\n",
       "      <th>Outlet_Type</th>\n",
       "      <th>Item_Outlet_Sales</th>\n",
       "      <th>Item_MRP</th>\n",
       "    </tr>\n",
       "  </thead>\n",
       "  <tbody>\n",
       "    <tr>\n",
       "      <th>1137</th>\n",
       "      <td>Regular</td>\n",
       "      <td>Fruits and Vegetables</td>\n",
       "      <td>Undefined</td>\n",
       "      <td>Supermarket</td>\n",
       "      <td>1966.7732</td>\n",
       "      <td>139.9838</td>\n",
       "    </tr>\n",
       "    <tr>\n",
       "      <th>3777</th>\n",
       "      <td>Low Fat</td>\n",
       "      <td>Snack Foods</td>\n",
       "      <td>Medium</td>\n",
       "      <td>Supermarket</td>\n",
       "      <td>3368.9480</td>\n",
       "      <td>147.4760</td>\n",
       "    </tr>\n",
       "    <tr>\n",
       "      <th>4042</th>\n",
       "      <td>Low Fat</td>\n",
       "      <td>Fruits and Vegetables</td>\n",
       "      <td>Medium</td>\n",
       "      <td>Supermarket</td>\n",
       "      <td>2239.0854</td>\n",
       "      <td>117.2466</td>\n",
       "    </tr>\n",
       "    <tr>\n",
       "      <th>8471</th>\n",
       "      <td>Low Fat</td>\n",
       "      <td>Health and Hygiene</td>\n",
       "      <td>Undefined</td>\n",
       "      <td>Supermarket</td>\n",
       "      <td>2302.3364</td>\n",
       "      <td>163.0526</td>\n",
       "    </tr>\n",
       "  </tbody>\n",
       "</table>\n",
       "</div>"
      ],
      "text/plain": [
       "     Item_Fat_Content              Item_Type Outlet_Size  Outlet_Type  \\\n",
       "1137          Regular  Fruits and Vegetables   Undefined  Supermarket   \n",
       "3777          Low Fat            Snack Foods      Medium  Supermarket   \n",
       "4042          Low Fat  Fruits and Vegetables      Medium  Supermarket   \n",
       "8471          Low Fat     Health and Hygiene   Undefined  Supermarket   \n",
       "\n",
       "      Item_Outlet_Sales  Item_MRP  \n",
       "1137          1966.7732  139.9838  \n",
       "3777          3368.9480  147.4760  \n",
       "4042          2239.0854  117.2466  \n",
       "8471          2302.3364  163.0526  "
      ]
     },
     "execution_count": 11,
     "metadata": {},
     "output_type": "execute_result"
    }
   ],
   "source": [
    "duplicate_rows"
   ]
  },
  {
   "cell_type": "code",
   "execution_count": 12,
   "id": "ba5b9a1a",
   "metadata": {
    "ExecuteTime": {
     "end_time": "2024-02-26T18:32:44.510012Z",
     "start_time": "2024-02-26T18:32:44.498522Z"
    }
   },
   "outputs": [
    {
     "data": {
      "text/html": [
       "<div>\n",
       "<style scoped>\n",
       "    .dataframe tbody tr th:only-of-type {\n",
       "        vertical-align: middle;\n",
       "    }\n",
       "\n",
       "    .dataframe tbody tr th {\n",
       "        vertical-align: top;\n",
       "    }\n",
       "\n",
       "    .dataframe thead th {\n",
       "        text-align: right;\n",
       "    }\n",
       "</style>\n",
       "<table border=\"1\" class=\"dataframe\">\n",
       "  <thead>\n",
       "    <tr style=\"text-align: right;\">\n",
       "      <th></th>\n",
       "      <th>Item_Fat_Content</th>\n",
       "      <th>Item_Type</th>\n",
       "      <th>Outlet_Size</th>\n",
       "      <th>Outlet_Type</th>\n",
       "      <th>Item_Outlet_Sales</th>\n",
       "      <th>Item_MRP</th>\n",
       "    </tr>\n",
       "  </thead>\n",
       "  <tbody>\n",
       "    <tr>\n",
       "      <th>0</th>\n",
       "      <td>Low Fat</td>\n",
       "      <td>Dairy</td>\n",
       "      <td>Medium</td>\n",
       "      <td>Supermarket</td>\n",
       "      <td>3735.1380</td>\n",
       "      <td>249.8092</td>\n",
       "    </tr>\n",
       "    <tr>\n",
       "      <th>1</th>\n",
       "      <td>Regular</td>\n",
       "      <td>Soft Drinks</td>\n",
       "      <td>Medium</td>\n",
       "      <td>Supermarket</td>\n",
       "      <td>443.4228</td>\n",
       "      <td>48.2692</td>\n",
       "    </tr>\n",
       "    <tr>\n",
       "      <th>2</th>\n",
       "      <td>Low Fat</td>\n",
       "      <td>Meat</td>\n",
       "      <td>Medium</td>\n",
       "      <td>Supermarket</td>\n",
       "      <td>2097.2700</td>\n",
       "      <td>141.6180</td>\n",
       "    </tr>\n",
       "    <tr>\n",
       "      <th>3</th>\n",
       "      <td>Regular</td>\n",
       "      <td>Fruits and Vegetables</td>\n",
       "      <td>Undefined</td>\n",
       "      <td>Grocery Store</td>\n",
       "      <td>732.3800</td>\n",
       "      <td>182.0950</td>\n",
       "    </tr>\n",
       "    <tr>\n",
       "      <th>4</th>\n",
       "      <td>Low Fat</td>\n",
       "      <td>Household</td>\n",
       "      <td>High</td>\n",
       "      <td>Supermarket</td>\n",
       "      <td>994.7052</td>\n",
       "      <td>53.8614</td>\n",
       "    </tr>\n",
       "  </tbody>\n",
       "</table>\n",
       "</div>"
      ],
      "text/plain": [
       "  Item_Fat_Content              Item_Type Outlet_Size    Outlet_Type  \\\n",
       "0          Low Fat                  Dairy      Medium    Supermarket   \n",
       "1          Regular            Soft Drinks      Medium    Supermarket   \n",
       "2          Low Fat                   Meat      Medium    Supermarket   \n",
       "3          Regular  Fruits and Vegetables   Undefined  Grocery Store   \n",
       "4          Low Fat              Household        High    Supermarket   \n",
       "\n",
       "   Item_Outlet_Sales  Item_MRP  \n",
       "0          3735.1380  249.8092  \n",
       "1           443.4228   48.2692  \n",
       "2          2097.2700  141.6180  \n",
       "3           732.3800  182.0950  \n",
       "4           994.7052   53.8614  "
      ]
     },
     "execution_count": 12,
     "metadata": {},
     "output_type": "execute_result"
    }
   ],
   "source": [
    "df.head()"
   ]
  },
  {
   "cell_type": "code",
   "execution_count": 13,
   "id": "d36bf5ed",
   "metadata": {
    "ExecuteTime": {
     "end_time": "2024-02-26T18:32:44.518109Z",
     "start_time": "2024-02-26T18:32:44.512028Z"
    }
   },
   "outputs": [
    {
     "data": {
      "text/plain": [
       "(8523, 6)"
      ]
     },
     "execution_count": 13,
     "metadata": {},
     "output_type": "execute_result"
    }
   ],
   "source": [
    "df.shape"
   ]
  },
  {
   "cell_type": "code",
   "execution_count": 14,
   "id": "eb2a9cb3",
   "metadata": {
    "ExecuteTime": {
     "end_time": "2024-02-26T18:32:44.544232Z",
     "start_time": "2024-02-26T18:32:44.520119Z"
    }
   },
   "outputs": [
    {
     "name": "stdout",
     "output_type": "stream",
     "text": [
      "Column: Item_Fat_Content\n",
      "Item_Fat_Content\n",
      "Low Fat    5089\n",
      "Regular    2889\n",
      "LF          316\n",
      "reg         117\n",
      "low fat     112\n",
      "Name: count, dtype: int64\n",
      "\n",
      "\n",
      "Column: Item_Type\n",
      "Item_Type\n",
      "Fruits and Vegetables    1232\n",
      "Snack Foods              1200\n",
      "Household                 910\n",
      "Frozen Foods              856\n",
      "Dairy                     682\n",
      "Canned                    649\n",
      "Baking Goods              648\n",
      "Health and Hygiene        520\n",
      "Soft Drinks               445\n",
      "Meat                      425\n",
      "Breads                    251\n",
      "Hard Drinks               214\n",
      "Others                    169\n",
      "Starchy Foods             148\n",
      "Breakfast                 110\n",
      "Seafood                    64\n",
      "Name: count, dtype: int64\n",
      "\n",
      "\n",
      "Column: Outlet_Size\n",
      "Outlet_Size\n",
      "Medium       2793\n",
      "Undefined    2410\n",
      "Small        2388\n",
      "High          932\n",
      "Name: count, dtype: int64\n",
      "\n",
      "\n",
      "Column: Outlet_Type\n",
      "Outlet_Type\n",
      "Supermarket      7440\n",
      "Grocery Store    1083\n",
      "Name: count, dtype: int64\n",
      "\n",
      "\n"
     ]
    }
   ],
   "source": [
    "categorical_columns = df.select_dtypes(include=['object']).columns\n",
    "\n",
    "for column in categorical_columns:\n",
    "    print(f\"Column: {column}\")\n",
    "    print(df[column].value_counts())\n",
    "    print(\"\\n\")"
   ]
  },
  {
   "cell_type": "code",
   "execution_count": 15,
   "id": "2413961b",
   "metadata": {
    "ExecuteTime": {
     "end_time": "2024-02-26T18:32:44.560666Z",
     "start_time": "2024-02-26T18:32:44.547251Z"
    },
    "code_folding": []
   },
   "outputs": [],
   "source": [
    "fat_content_mapping = {'Low Fat': 1, 'Regular': 2, 'LF': 1, 'reg': 2, 'low fat': 1}\n",
    "item_type_mapping = {'Fruits and Vegetables': 1, 'Snack Foods': 2, 'Household': 3, 'Frozen Foods': 4, 'Dairy': 5,\n",
    "                     'Canned': 6, 'Baking Goods': 7, 'Health and Hygiene': 8, 'Soft Drinks': 9, 'Meat': 10,\n",
    "                     'Breads': 11, 'Hard Drinks': 12, 'Others': 13, 'Starchy Foods': 14, 'Breakfast': 15, 'Seafood': 16}\n",
    "outlet_size_mapping = {'Medium': 1, 'Undefined': 2, 'Small': 3, 'High': 4}\n",
    "outlet_type_mapping = {'Supermarket': 1, 'Grocery Store': 2}\n",
    "\n",
    "# Apply mapping to the respective columns\n",
    "df['Item_Fat_Content'] = df['Item_Fat_Content'].map(fat_content_mapping)\n",
    "df['Item_Type'] = df['Item_Type'].map(item_type_mapping)\n",
    "df['Outlet_Size'] = df['Outlet_Size'].map(outlet_size_mapping)\n",
    "df['Outlet_Type'] = df['Outlet_Type'].map(outlet_type_mapping)\n"
   ]
  },
  {
   "cell_type": "code",
   "execution_count": 16,
   "id": "6bd58476",
   "metadata": {
    "ExecuteTime": {
     "end_time": "2024-02-26T18:32:44.579416Z",
     "start_time": "2024-02-26T18:32:44.563682Z"
    }
   },
   "outputs": [
    {
     "data": {
      "text/html": [
       "<div>\n",
       "<style scoped>\n",
       "    .dataframe tbody tr th:only-of-type {\n",
       "        vertical-align: middle;\n",
       "    }\n",
       "\n",
       "    .dataframe tbody tr th {\n",
       "        vertical-align: top;\n",
       "    }\n",
       "\n",
       "    .dataframe thead th {\n",
       "        text-align: right;\n",
       "    }\n",
       "</style>\n",
       "<table border=\"1\" class=\"dataframe\">\n",
       "  <thead>\n",
       "    <tr style=\"text-align: right;\">\n",
       "      <th></th>\n",
       "      <th>Item_Fat_Content</th>\n",
       "      <th>Item_Type</th>\n",
       "      <th>Outlet_Size</th>\n",
       "      <th>Outlet_Type</th>\n",
       "      <th>Item_Outlet_Sales</th>\n",
       "      <th>Item_MRP</th>\n",
       "    </tr>\n",
       "  </thead>\n",
       "  <tbody>\n",
       "    <tr>\n",
       "      <th>Item_Fat_Content</th>\n",
       "      <td>1.000000</td>\n",
       "      <td>-0.058227</td>\n",
       "      <td>-0.004526</td>\n",
       "      <td>-0.002924</td>\n",
       "      <td>0.018719</td>\n",
       "      <td>0.006063</td>\n",
       "    </tr>\n",
       "    <tr>\n",
       "      <th>Item_Type</th>\n",
       "      <td>-0.058227</td>\n",
       "      <td>1.000000</td>\n",
       "      <td>-0.000838</td>\n",
       "      <td>0.012396</td>\n",
       "      <td>-0.035899</td>\n",
       "      <td>-0.055627</td>\n",
       "    </tr>\n",
       "    <tr>\n",
       "      <th>Outlet_Size</th>\n",
       "      <td>-0.004526</td>\n",
       "      <td>-0.000838</td>\n",
       "      <td>1.000000</td>\n",
       "      <td>0.119744</td>\n",
       "      <td>-0.124199</td>\n",
       "      <td>0.007973</td>\n",
       "    </tr>\n",
       "    <tr>\n",
       "      <th>Outlet_Type</th>\n",
       "      <td>-0.002924</td>\n",
       "      <td>0.012396</td>\n",
       "      <td>0.119744</td>\n",
       "      <td>1.000000</td>\n",
       "      <td>-0.411727</td>\n",
       "      <td>-0.004277</td>\n",
       "    </tr>\n",
       "    <tr>\n",
       "      <th>Item_Outlet_Sales</th>\n",
       "      <td>0.018719</td>\n",
       "      <td>-0.035899</td>\n",
       "      <td>-0.124199</td>\n",
       "      <td>-0.411727</td>\n",
       "      <td>1.000000</td>\n",
       "      <td>0.567574</td>\n",
       "    </tr>\n",
       "    <tr>\n",
       "      <th>Item_MRP</th>\n",
       "      <td>0.006063</td>\n",
       "      <td>-0.055627</td>\n",
       "      <td>0.007973</td>\n",
       "      <td>-0.004277</td>\n",
       "      <td>0.567574</td>\n",
       "      <td>1.000000</td>\n",
       "    </tr>\n",
       "  </tbody>\n",
       "</table>\n",
       "</div>"
      ],
      "text/plain": [
       "                   Item_Fat_Content  Item_Type  Outlet_Size  Outlet_Type  \\\n",
       "Item_Fat_Content           1.000000  -0.058227    -0.004526    -0.002924   \n",
       "Item_Type                 -0.058227   1.000000    -0.000838     0.012396   \n",
       "Outlet_Size               -0.004526  -0.000838     1.000000     0.119744   \n",
       "Outlet_Type               -0.002924   0.012396     0.119744     1.000000   \n",
       "Item_Outlet_Sales          0.018719  -0.035899    -0.124199    -0.411727   \n",
       "Item_MRP                   0.006063  -0.055627     0.007973    -0.004277   \n",
       "\n",
       "                   Item_Outlet_Sales  Item_MRP  \n",
       "Item_Fat_Content            0.018719  0.006063  \n",
       "Item_Type                  -0.035899 -0.055627  \n",
       "Outlet_Size                -0.124199  0.007973  \n",
       "Outlet_Type                -0.411727 -0.004277  \n",
       "Item_Outlet_Sales           1.000000  0.567574  \n",
       "Item_MRP                    0.567574  1.000000  "
      ]
     },
     "execution_count": 16,
     "metadata": {},
     "output_type": "execute_result"
    }
   ],
   "source": [
    "df.corr()"
   ]
  },
  {
   "cell_type": "markdown",
   "id": "30ec012f",
   "metadata": {},
   "source": [
    "ml model trainning"
   ]
  },
  {
   "cell_type": "code",
   "execution_count": 17,
   "id": "23b987f6",
   "metadata": {
    "ExecuteTime": {
     "end_time": "2024-02-26T18:32:44.586179Z",
     "start_time": "2024-02-26T18:32:44.581433Z"
    }
   },
   "outputs": [],
   "source": [
    "X = df.drop('Item_Outlet_Sales',axis=1)\n",
    "y = df.Item_Outlet_Sales"
   ]
  },
  {
   "cell_type": "code",
   "execution_count": 18,
   "id": "0e3ad2dd",
   "metadata": {
    "ExecuteTime": {
     "end_time": "2024-02-26T18:32:45.989156Z",
     "start_time": "2024-02-26T18:32:44.588192Z"
    }
   },
   "outputs": [],
   "source": [
    "from sklearn.preprocessing import StandardScaler\n",
    "\n",
    "scaler = StandardScaler()\n",
    "scaled_data = scaler.fit_transform(X)"
   ]
  },
  {
   "cell_type": "code",
   "execution_count": 25,
   "id": "21f034ca",
   "metadata": {
    "ExecuteTime": {
     "end_time": "2024-02-26T18:35:15.669961Z",
     "start_time": "2024-02-26T18:35:15.646164Z"
    }
   },
   "outputs": [
    {
     "name": "stdout",
     "output_type": "stream",
     "text": [
      "Mean Squared Error: 1511274.4374481335\n",
      "R-squared: 0.49943762114489787\n"
     ]
    }
   ],
   "source": [
    "from sklearn.model_selection import train_test_split\n",
    "from sklearn.linear_model import LinearRegression\n",
    "from sklearn.metrics import mean_squared_error\n",
    "from sklearn.metrics import r2_score\n",
    "X_train, X_test, y_train, y_test = train_test_split(scaled_data, y, test_size=0.2,\n",
    "                                                    shuffle=True)\n",
    "\n",
    "# Initialize the model\n",
    "model = LinearRegression()\n",
    "\n",
    "# Train the model\n",
    "model.fit(X_train, y_train)\n",
    "\n",
    "# Make predictions\n",
    "predictions = model.predict(X_test)\n",
    "\n",
    "# Evaluate the model\n",
    "mse = mean_squared_error(y_test, predictions)\n",
    "print(f'Mean Squared Error: {mse}')\n",
    "\n",
    "\n",
    "r2 = r2_score(y_test, predictions)\n",
    "print(f'R-squared: {r2}')\n"
   ]
  },
  {
   "cell_type": "code",
   "execution_count": 26,
   "id": "39cc5cd9",
   "metadata": {
    "ExecuteTime": {
     "end_time": "2024-02-26T18:36:06.833622Z",
     "start_time": "2024-02-26T18:35:17.893575Z"
    }
   },
   "outputs": [
    {
     "name": "stdout",
     "output_type": "stream",
     "text": [
      "Linear Regression:\n",
      "  Mean Squared Error: 1511274.4374481335\n",
      "  R-squared: 0.49943762114489787\n",
      "\n",
      "Decision Tree:\n",
      "  Mean Squared Error: 2897285.8588707224\n",
      "  R-squared: 0.04036469763331818\n",
      "\n",
      "Random Forest:\n",
      "  Mean Squared Error: 1785242.0060421773\n",
      "  R-squared: 0.408694434820548\n",
      "\n",
      "Support Vector Regression:\n",
      "  Mean Squared Error: 2641404.0328265256\n",
      "  R-squared: 0.12511754753048743\n",
      "\n",
      "k-Nearest Neighbors:\n",
      "  Mean Squared Error: 1698363.6483280663\n",
      "  R-squared: 0.43747017291999724\n",
      "\n",
      "Gradient Boosting:\n",
      "  Mean Squared Error: 1420937.6218322292\n",
      "  R-squared: 0.529358865230285\n",
      "\n"
     ]
    }
   ],
   "source": [
    "from sklearn.model_selection import train_test_split\n",
    "from sklearn.linear_model import LinearRegression\n",
    "from sklearn.tree import DecisionTreeRegressor\n",
    "from sklearn.ensemble import RandomForestRegressor, GradientBoostingRegressor\n",
    "from sklearn.svm import SVR\n",
    "from sklearn.neighbors import KNeighborsRegressor\n",
    "from sklearn.metrics import mean_squared_error, r2_score\n",
    "import numpy as np\n",
    "\n",
    "# Linear Regression\n",
    "linear_reg = LinearRegression()\n",
    "linear_reg.fit(X_train, y_train)\n",
    "linear_reg_pred = linear_reg.predict(X_test)\n",
    "\n",
    "# Decision Tree\n",
    "decision_tree = DecisionTreeRegressor(random_state=42)\n",
    "decision_tree.fit(X_train, y_train)\n",
    "decision_tree_pred = decision_tree.predict(X_test)\n",
    "\n",
    "# Random Forest\n",
    "random_forest = RandomForestRegressor(random_state=42)\n",
    "random_forest.fit(X_train, y_train)\n",
    "random_forest_pred = random_forest.predict(X_test)\n",
    "\n",
    "# Support Vector Regression\n",
    "svr = SVR()\n",
    "svr.fit(X_train, y_train)\n",
    "svr_pred = svr.predict(X_test)\n",
    "\n",
    "# k-Nearest Neighbors\n",
    "knn = KNeighborsRegressor()\n",
    "knn.fit(X_train, y_train)\n",
    "knn_pred = knn.predict(X_test)\n",
    "\n",
    "# Gradient Boosting\n",
    "gradient_boosting = GradientBoostingRegressor(random_state=42)\n",
    "gradient_boosting.fit(X_train, y_train)\n",
    "gradient_boosting_pred = gradient_boosting.predict(X_test)\n",
    "\n",
    "# Evaluate performance\n",
    "def evaluate_model(y_true, y_pred, model_name):\n",
    "    mse = mean_squared_error(y_true, y_pred)\n",
    "    r2 = r2_score(y_true, y_pred)\n",
    "    print(f\"{model_name}:\\n  Mean Squared Error: {mse}\\n  R-squared: {r2}\\n\")\n",
    "\n",
    "evaluate_model(y_test, linear_reg_pred, \"Linear Regression\")\n",
    "evaluate_model(y_test, decision_tree_pred, \"Decision Tree\")\n",
    "evaluate_model(y_test, random_forest_pred, \"Random Forest\")\n",
    "evaluate_model(y_test, svr_pred, \"Support Vector Regression\")\n",
    "evaluate_model(y_test, knn_pred, \"k-Nearest Neighbors\")\n",
    "evaluate_model(y_test, gradient_boosting_pred, \"Gradient Boosting\")\n"
   ]
  },
  {
   "cell_type": "code",
   "execution_count": 27,
   "id": "88a3a566",
   "metadata": {
    "ExecuteTime": {
     "end_time": "2024-02-26T18:40:34.124224Z",
     "start_time": "2024-02-26T18:36:41.718014Z"
    }
   },
   "outputs": [
    {
     "name": "stdout",
     "output_type": "stream",
     "text": [
      "Best Hyperparameters: {'n_estimators': 60, 'min_samples_split': 2, 'min_samples_leaf': 5, 'max_depth': 4, 'learning_rate': 0.1}\n"
     ]
    }
   ],
   "source": [
    "from sklearn.ensemble import GradientBoostingRegressor\n",
    "from sklearn.model_selection import RandomizedSearchCV\n",
    "import numpy as np\n",
    "\n",
    "# Assuming you have already defined X_train, y_train, X_test, and y_test\n",
    "\n",
    "# Create the GradientBoostingRegressor\n",
    "gradient_boosting = GradientBoostingRegressor(random_state=42)\n",
    "\n",
    "# Define the hyperparameters and their possible distributions for RandomizedSearchCV\n",
    "param_dist = {\n",
    "    'n_estimators': np.arange(50, 200, 10),\n",
    "    'learning_rate': np.logspace(-3, 0, 4),\n",
    "    'max_depth': [3, 4, 5, 6, None],\n",
    "    'min_samples_split': np.arange(2, 11, 2),\n",
    "    'min_samples_leaf': np.arange(1, 6, 1)\n",
    "}\n",
    "\n",
    "# Use RandomizedSearchCV to sample from the hyperparameter distributions\n",
    "random_search = RandomizedSearchCV(estimator=gradient_boosting, param_distributions=param_dist,\n",
    "                                   n_iter=50, cv=3, scoring='neg_mean_squared_error', n_jobs=-1, random_state=42)\n",
    "# Set n_jobs=-1 to use all available CPUs\n",
    "\n",
    "# Fit the RandomizedSearchCV\n",
    "random_search.fit(X_train, y_train)\n",
    "\n",
    "# Get the best hyperparameters\n",
    "best_params = random_search.best_params_\n",
    "print(f'Best Hyperparameters: {best_params}')\n",
    "\n",
    "# Train the model with the best hyperparameters\n",
    "best_gradient_boosting = random_search.best_estimator_\n",
    "best_gradient_boosting.fit(X_train, y_train)\n",
    "\n",
    "# Make predictions\n",
    "gradient_boosting_pred = best_gradient_boosting.predict(X_test)\n"
   ]
  },
  {
   "cell_type": "code",
   "execution_count": 40,
   "id": "424adcac",
   "metadata": {
    "ExecuteTime": {
     "end_time": "2024-02-26T18:47:10.504459Z",
     "start_time": "2024-02-26T18:47:09.714675Z"
    }
   },
   "outputs": [
    {
     "name": "stdout",
     "output_type": "stream",
     "text": [
      "Gradient Boosting with Best Hyperparameters:\n",
      "  Mean Squared Error: 1420199.3825888452\n",
      "  R-squared: 0.5296033838846577\n",
      "\n"
     ]
    }
   ],
   "source": [
    "from sklearn.ensemble import GradientBoostingRegressor\n",
    "from sklearn.model_selection import train_test_split\n",
    "from sklearn.metrics import mean_squared_error, r2_score\n",
    "import numpy as np\n",
    "\n",
    "# Assuming you have already defined X_train, y_train, X_test, and y_test\n",
    "\n",
    "# Use the best hyperparameters\n",
    "best_params = {'n_estimators': 60, 'min_samples_split':8, 'min_samples_leaf': 5, 'max_depth': 4, 'learning_rate': 0.1}\n",
    "\n",
    "# Create the GradientBoostingRegressor with the best hyperparameters\n",
    "best_gradient_boosting = GradientBoostingRegressor(**best_params, random_state=42)\n",
    "\n",
    "# Train the model\n",
    "best_gradient_boosting.fit(X_train, y_train)\n",
    "\n",
    "# Make predictions\n",
    "gradient_boosting_pred = best_gradient_boosting.predict(X_test)\n",
    "\n",
    "# Evaluate the model performance\n",
    "evaluate_model(y_test, gradient_boosting_pred, \"Gradient Boosting with Best Hyperparameters\")\n"
   ]
  },
  {
   "cell_type": "code",
   "execution_count": 56,
   "id": "d8f3aae2",
   "metadata": {
    "ExecuteTime": {
     "end_time": "2024-02-26T18:50:17.196434Z",
     "start_time": "2024-02-26T18:49:38.587752Z"
    }
   },
   "outputs": [
    {
     "name": "stdout",
     "output_type": "stream",
     "text": [
      "WARNING:tensorflow:From C:\\Users\\Rohan\\anaconda3\\Lib\\site-packages\\keras\\src\\losses.py:2976: The name tf.losses.sparse_softmax_cross_entropy is deprecated. Please use tf.compat.v1.losses.sparse_softmax_cross_entropy instead.\n",
      "\n",
      "WARNING:tensorflow:From C:\\Users\\Rohan\\anaconda3\\Lib\\site-packages\\keras\\src\\backend.py:873: The name tf.get_default_graph is deprecated. Please use tf.compat.v1.get_default_graph instead.\n",
      "\n",
      "WARNING:tensorflow:From C:\\Users\\Rohan\\anaconda3\\Lib\\site-packages\\keras\\src\\optimizers\\__init__.py:309: The name tf.train.Optimizer is deprecated. Please use tf.compat.v1.train.Optimizer instead.\n",
      "\n",
      "WARNING:tensorflow:From C:\\Users\\Rohan\\anaconda3\\Lib\\site-packages\\keras\\src\\utils\\tf_utils.py:492: The name tf.ragged.RaggedTensorValue is deprecated. Please use tf.compat.v1.ragged.RaggedTensorValue instead.\n",
      "\n",
      "54/54 [==============================] - 0s 3ms/step\n",
      "Improved Deep Learning Model:\n",
      "  Mean Squared Error: 1397846.8212796466\n",
      "  R-squared: 0.5370069705431668\n",
      "\n"
     ]
    }
   ],
   "source": [
    "from sklearn.model_selection import train_test_split\n",
    "from sklearn.metrics import mean_squared_error, r2_score\n",
    "from sklearn.preprocessing import StandardScaler\n",
    "from tensorflow.keras.models import Sequential\n",
    "from tensorflow.keras.layers import Dense, Dropout, BatchNormalization\n",
    "from tensorflow.keras.regularizers import l2\n",
    "from tensorflow.keras.callbacks import EarlyStopping\n",
    "import numpy as np\n",
    "\n",
    "# Assuming X_train, X_test, y_train, y_test are your data splits\n",
    "\n",
    "# Standardize the data\n",
    "scaler = StandardScaler()\n",
    "X_train_scaled = scaler.fit_transform(X_train)\n",
    "X_test_scaled = scaler.transform(X_test)\n",
    "\n",
    "# Create a more complex neural network model with dropout and L2 regularization\n",
    "model = Sequential()\n",
    "model.add(Dense(128, activation='relu', kernel_regularizer=l2(0.01), input_dim=X_train.shape[1]))\n",
    "model.add(BatchNormalization())\n",
    "model.add(Dropout(0.4))  # Add dropout for regularization\n",
    "model.add(Dense(64, activation='relu', kernel_regularizer=l2(0.01)))\n",
    "model.add(BatchNormalization())\n",
    "model.add(Dropout(0.4))  # Add dropout for regularization\n",
    "model.add(Dense(32, activation='relu', kernel_regularizer=l2(0.01)))\n",
    "model.add(Dense(1, activation='linear'))\n",
    "\n",
    "# Compile the model\n",
    "model.compile(optimizer='adam', loss='mean_squared_error')\n",
    "\n",
    "# Define early stopping\n",
    "early_stopping = EarlyStopping(monitor='val_loss', patience=5, restore_best_weights=True)\n",
    "\n",
    "# Train the model\n",
    "model.fit(X_train_scaled, y_train, epochs=50, batch_size=64, validation_split=0.2, callbacks=[early_stopping], verbose=0)\n",
    "\n",
    "# Predict using the trained model\n",
    "dl_pred = model.predict(X_test_scaled).flatten()\n",
    "\n",
    "# Evaluate the deep learning model\n",
    "evaluate_model(y_test, dl_pred, \"Improved Deep Learning Model\")\n"
   ]
  },
  {
   "cell_type": "code",
   "execution_count": null,
   "id": "457f7403",
   "metadata": {},
   "outputs": [],
   "source": []
  },
  {
   "cell_type": "code",
   "execution_count": null,
   "id": "dde3d1af",
   "metadata": {},
   "outputs": [],
   "source": []
  },
  {
   "cell_type": "markdown",
   "id": "15eb0a9b",
   "metadata": {},
   "source": [
    "# Predictions"
   ]
  },
  {
   "cell_type": "code",
   "execution_count": 69,
   "id": "1597bf63",
   "metadata": {
    "ExecuteTime": {
     "end_time": "2024-02-26T18:52:58.679491Z",
     "start_time": "2024-02-26T18:52:58.669281Z"
    }
   },
   "outputs": [
    {
     "data": {
      "text/plain": [
       "array([ 1.35474328, -0.91461657, -1.16193374, -0.38152918, -0.73898407])"
      ]
     },
     "execution_count": 69,
     "metadata": {},
     "output_type": "execute_result"
    }
   ],
   "source": [
    "X_test[6]"
   ]
  },
  {
   "cell_type": "code",
   "execution_count": 85,
   "id": "660433ab",
   "metadata": {
    "ExecuteTime": {
     "end_time": "2024-02-26T18:53:55.594178Z",
     "start_time": "2024-02-26T18:53:55.587795Z"
    }
   },
   "outputs": [],
   "source": [
    "data = X_test[[18]]"
   ]
  },
  {
   "cell_type": "code",
   "execution_count": 86,
   "id": "f08af650",
   "metadata": {
    "ExecuteTime": {
     "end_time": "2024-02-26T18:53:56.576104Z",
     "start_time": "2024-02-26T18:53:56.438058Z"
    }
   },
   "outputs": [
    {
     "name": "stdout",
     "output_type": "stream",
     "text": [
      "1/1 [==============================] - 0s 44ms/step\n"
     ]
    }
   ],
   "source": [
    "gradient_boosting_pred = best_gradient_boosting.predict(data)\n",
    "models = model.predict(data)"
   ]
  },
  {
   "cell_type": "code",
   "execution_count": 87,
   "id": "1cfc4cb3",
   "metadata": {
    "ExecuteTime": {
     "end_time": "2024-02-26T18:53:57.701469Z",
     "start_time": "2024-02-26T18:53:57.690440Z"
    }
   },
   "outputs": [
    {
     "data": {
      "text/plain": [
       "array([3348.83185038])"
      ]
     },
     "execution_count": 87,
     "metadata": {},
     "output_type": "execute_result"
    }
   ],
   "source": [
    "gradient_boosting_pred"
   ]
  },
  {
   "cell_type": "code",
   "execution_count": 88,
   "id": "7883e55c",
   "metadata": {
    "ExecuteTime": {
     "end_time": "2024-02-26T18:53:59.886569Z",
     "start_time": "2024-02-26T18:53:59.878503Z"
    }
   },
   "outputs": [
    {
     "data": {
      "text/plain": [
       "array([[3169.1445]], dtype=float32)"
      ]
     },
     "execution_count": 88,
     "metadata": {},
     "output_type": "execute_result"
    }
   ],
   "source": [
    "models"
   ]
  },
  {
   "cell_type": "code",
   "execution_count": 89,
   "id": "646e388f",
   "metadata": {
    "ExecuteTime": {
     "end_time": "2024-02-26T18:54:02.498234Z",
     "start_time": "2024-02-26T18:54:02.489755Z"
    }
   },
   "outputs": [
    {
     "data": {
      "text/plain": [
       "4379.6324"
      ]
     },
     "execution_count": 89,
     "metadata": {},
     "output_type": "execute_result"
    }
   ],
   "source": [
    "position_to_access = 18  \n",
    "element_value = y_test.iloc[position_to_access]\n",
    "element_value"
   ]
  },
  {
   "cell_type": "code",
   "execution_count": null,
   "id": "b20f4d26",
   "metadata": {},
   "outputs": [],
   "source": []
  },
  {
   "cell_type": "code",
   "execution_count": 92,
   "id": "510c193d",
   "metadata": {
    "ExecuteTime": {
     "end_time": "2024-02-26T19:03:14.395705Z",
     "start_time": "2024-02-26T19:03:14.370766Z"
    }
   },
   "outputs": [
    {
     "name": "stdout",
     "output_type": "stream",
     "text": [
      "Model saved at: C:\\Users\\Rohan\\Pictures\\rohan\\BigMart_Sales_project\\gradient_boosting_model.pkl\n"
     ]
    }
   ],
   "source": [
    "import os\n",
    "import pickle\n",
    "\n",
    "# Specify the file path\n",
    "file_path = r'C:\\Users\\Rohan\\Pictures\\rohan\\BigMart_Sales_project\\gradient_boosting_model.pkl'\n",
    "\n",
    "# Create the directory if it doesn't exist\n",
    "os.makedirs(os.path.dirname(file_path), exist_ok=True)\n",
    "\n",
    "# Save the model to the specified file path\n",
    "with open(file_path, 'wb') as file:\n",
    "    pickle.dump(best_gradient_boosting, file)\n",
    "\n",
    "print(f\"Model saved at: {file_path}\")\n"
   ]
  },
  {
   "cell_type": "code",
   "execution_count": null,
   "id": "c92319b6",
   "metadata": {},
   "outputs": [],
   "source": []
  }
 ],
 "metadata": {
  "kernelspec": {
   "display_name": "Python 3 (ipykernel)",
   "language": "python",
   "name": "python3"
  },
  "language_info": {
   "codemirror_mode": {
    "name": "ipython",
    "version": 3
   },
   "file_extension": ".py",
   "mimetype": "text/x-python",
   "name": "python",
   "nbconvert_exporter": "python",
   "pygments_lexer": "ipython3",
   "version": "3.11.5"
  },
  "toc": {
   "base_numbering": 1,
   "nav_menu": {},
   "number_sections": true,
   "sideBar": true,
   "skip_h1_title": false,
   "title_cell": "Table of Contents",
   "title_sidebar": "Contents",
   "toc_cell": false,
   "toc_position": {},
   "toc_section_display": true,
   "toc_window_display": false
  },
  "varInspector": {
   "cols": {
    "lenName": 16,
    "lenType": 16,
    "lenVar": 40
   },
   "kernels_config": {
    "python": {
     "delete_cmd_postfix": "",
     "delete_cmd_prefix": "del ",
     "library": "var_list.py",
     "varRefreshCmd": "print(var_dic_list())"
    },
    "r": {
     "delete_cmd_postfix": ") ",
     "delete_cmd_prefix": "rm(",
     "library": "var_list.r",
     "varRefreshCmd": "cat(var_dic_list()) "
    }
   },
   "types_to_exclude": [
    "module",
    "function",
    "builtin_function_or_method",
    "instance",
    "_Feature"
   ],
   "window_display": false
  }
 },
 "nbformat": 4,
 "nbformat_minor": 5
}
