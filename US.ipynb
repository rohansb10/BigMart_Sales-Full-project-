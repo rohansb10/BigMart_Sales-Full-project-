{
 "cells": [
  {
   "cell_type": "code",
   "execution_count": 46,
   "id": "6276560b",
   "metadata": {
    "ExecuteTime": {
     "end_time": "2024-02-26T16:48:02.223306Z",
     "start_time": "2024-02-26T16:48:02.217877Z"
    }
   },
   "outputs": [],
   "source": [
    "import warnings\n",
    "warnings.simplefilter(\"ignore\")\n",
    "import pandas as pd"
   ]
  },
  {
   "cell_type": "code",
   "execution_count": 47,
   "id": "be90ed2f",
   "metadata": {
    "ExecuteTime": {
     "end_time": "2024-02-26T16:48:02.753405Z",
     "start_time": "2024-02-26T16:48:02.722784Z"
    }
   },
   "outputs": [],
   "source": [
    "df= pd.read_csv(r\"BigMart_Sales.csv\")"
   ]
  },
  {
   "cell_type": "code",
   "execution_count": null,
   "id": "0b3ac7f5",
   "metadata": {
    "ExecuteTime": {
     "end_time": "2024-02-26T16:48:02.868306Z",
     "start_time": "2024-02-26T16:48:02.868306Z"
    }
   },
   "outputs": [],
   "source": [
    "df.head()"
   ]
  },
  {
   "cell_type": "code",
   "execution_count": null,
   "id": "3dc33ceb",
   "metadata": {
    "ExecuteTime": {
     "end_time": "2024-02-26T16:48:02.870306Z",
     "start_time": "2024-02-26T16:48:02.870306Z"
    }
   },
   "outputs": [],
   "source": [
    "df.drop('Outlet_Establishment_Year',axis=1,inplace=True)\n",
    "df.drop('Item_Weight',axis=1,inplace=True)\n",
    "df.drop('Outlet_Identifier',axis=1,inplace=True)\n",
    "df.drop('Item_Identifier',axis=1,inplace=True)"
   ]
  },
  {
   "cell_type": "code",
   "execution_count": null,
   "id": "ccd65080",
   "metadata": {
    "ExecuteTime": {
     "end_time": "2024-02-26T16:48:02.871305Z",
     "start_time": "2024-02-26T16:48:02.871305Z"
    }
   },
   "outputs": [],
   "source": [
    "df.select_dtypes(include=object)"
   ]
  },
  {
   "cell_type": "code",
   "execution_count": null,
   "id": "3cfe5895",
   "metadata": {
    "ExecuteTime": {
     "end_time": "2024-02-26T16:48:02.874765Z",
     "start_time": "2024-02-26T16:48:02.874765Z"
    }
   },
   "outputs": [],
   "source": [
    "df.isnull().sum()"
   ]
  },
  {
   "cell_type": "code",
   "execution_count": 48,
   "id": "7e15b902",
   "metadata": {
    "ExecuteTime": {
     "end_time": "2024-02-26T16:48:02.891469Z",
     "start_time": "2024-02-26T16:48:02.884777Z"
    }
   },
   "outputs": [
    {
     "data": {
      "text/plain": [
       "Index(['Item_Identifier', 'Item_Weight', 'Item_Fat_Content', 'Item_Visibility',\n",
       "       'Item_Type', 'Item_MRP', 'Outlet_Identifier',\n",
       "       'Outlet_Establishment_Year', 'Outlet_Size', 'Outlet_Location_Type',\n",
       "       'Outlet_Type', 'Item_Outlet_Sales'],\n",
       "      dtype='object')"
      ]
     },
     "execution_count": 48,
     "metadata": {},
     "output_type": "execute_result"
    }
   ],
   "source": [
    "df.columns"
   ]
  },
  {
   "cell_type": "code",
   "execution_count": 49,
   "id": "7aaa6c89",
   "metadata": {
    "ExecuteTime": {
     "end_time": "2024-02-26T16:48:02.921041Z",
     "start_time": "2024-02-26T16:48:02.914299Z"
    }
   },
   "outputs": [],
   "source": [
    "df['Outlet_Size'].fillna('Undefined', inplace=True)"
   ]
  },
  {
   "cell_type": "code",
   "execution_count": 50,
   "id": "edeab90e",
   "metadata": {
    "ExecuteTime": {
     "end_time": "2024-02-26T16:48:02.942331Z",
     "start_time": "2024-02-26T16:48:02.931326Z"
    }
   },
   "outputs": [
    {
     "data": {
      "text/plain": [
       "Item_Identifier                 0\n",
       "Item_Weight                  1463\n",
       "Item_Fat_Content                0\n",
       "Item_Visibility                 0\n",
       "Item_Type                       0\n",
       "Item_MRP                        0\n",
       "Outlet_Identifier               0\n",
       "Outlet_Establishment_Year       0\n",
       "Outlet_Size                     0\n",
       "Outlet_Location_Type            0\n",
       "Outlet_Type                     0\n",
       "Item_Outlet_Sales               0\n",
       "dtype: int64"
      ]
     },
     "execution_count": 50,
     "metadata": {},
     "output_type": "execute_result"
    }
   ],
   "source": [
    "df.isnull().sum()"
   ]
  },
  {
   "cell_type": "code",
   "execution_count": null,
   "id": "a3dd5e76",
   "metadata": {
    "ExecuteTime": {
     "end_time": "2024-02-26T16:48:03.407124Z",
     "start_time": "2024-02-26T16:48:03.407124Z"
    }
   },
   "outputs": [],
   "source": [
    "df['Outlet_Size'].value_counts()"
   ]
  },
  {
   "cell_type": "code",
   "execution_count": 51,
   "id": "c28ef947",
   "metadata": {
    "ExecuteTime": {
     "end_time": "2024-02-26T16:48:03.811621Z",
     "start_time": "2024-02-26T16:48:03.795406Z"
    }
   },
   "outputs": [],
   "source": [
    "duplicate_rows = df[df.duplicated()]"
   ]
  },
  {
   "cell_type": "code",
   "execution_count": 52,
   "id": "5a9da353",
   "metadata": {
    "ExecuteTime": {
     "end_time": "2024-02-26T16:48:04.161111Z",
     "start_time": "2024-02-26T16:48:04.149710Z"
    }
   },
   "outputs": [
    {
     "data": {
      "text/html": [
       "<div>\n",
       "<style scoped>\n",
       "    .dataframe tbody tr th:only-of-type {\n",
       "        vertical-align: middle;\n",
       "    }\n",
       "\n",
       "    .dataframe tbody tr th {\n",
       "        vertical-align: top;\n",
       "    }\n",
       "\n",
       "    .dataframe thead th {\n",
       "        text-align: right;\n",
       "    }\n",
       "</style>\n",
       "<table border=\"1\" class=\"dataframe\">\n",
       "  <thead>\n",
       "    <tr style=\"text-align: right;\">\n",
       "      <th></th>\n",
       "      <th>Item_Identifier</th>\n",
       "      <th>Item_Weight</th>\n",
       "      <th>Item_Fat_Content</th>\n",
       "      <th>Item_Visibility</th>\n",
       "      <th>Item_Type</th>\n",
       "      <th>Item_MRP</th>\n",
       "      <th>Outlet_Identifier</th>\n",
       "      <th>Outlet_Establishment_Year</th>\n",
       "      <th>Outlet_Size</th>\n",
       "      <th>Outlet_Location_Type</th>\n",
       "      <th>Outlet_Type</th>\n",
       "      <th>Item_Outlet_Sales</th>\n",
       "    </tr>\n",
       "  </thead>\n",
       "  <tbody>\n",
       "  </tbody>\n",
       "</table>\n",
       "</div>"
      ],
      "text/plain": [
       "Empty DataFrame\n",
       "Columns: [Item_Identifier, Item_Weight, Item_Fat_Content, Item_Visibility, Item_Type, Item_MRP, Outlet_Identifier, Outlet_Establishment_Year, Outlet_Size, Outlet_Location_Type, Outlet_Type, Item_Outlet_Sales]\n",
       "Index: []"
      ]
     },
     "execution_count": 52,
     "metadata": {},
     "output_type": "execute_result"
    }
   ],
   "source": [
    "duplicate_rows"
   ]
  },
  {
   "cell_type": "code",
   "execution_count": 53,
   "id": "30d4ff51",
   "metadata": {
    "ExecuteTime": {
     "end_time": "2024-02-26T16:48:04.467390Z",
     "start_time": "2024-02-26T16:48:04.451253Z"
    }
   },
   "outputs": [
    {
     "data": {
      "text/html": [
       "<div>\n",
       "<style scoped>\n",
       "    .dataframe tbody tr th:only-of-type {\n",
       "        vertical-align: middle;\n",
       "    }\n",
       "\n",
       "    .dataframe tbody tr th {\n",
       "        vertical-align: top;\n",
       "    }\n",
       "\n",
       "    .dataframe thead th {\n",
       "        text-align: right;\n",
       "    }\n",
       "</style>\n",
       "<table border=\"1\" class=\"dataframe\">\n",
       "  <thead>\n",
       "    <tr style=\"text-align: right;\">\n",
       "      <th></th>\n",
       "      <th>Item_Identifier</th>\n",
       "      <th>Item_Weight</th>\n",
       "      <th>Item_Fat_Content</th>\n",
       "      <th>Item_Visibility</th>\n",
       "      <th>Item_Type</th>\n",
       "      <th>Item_MRP</th>\n",
       "      <th>Outlet_Identifier</th>\n",
       "      <th>Outlet_Establishment_Year</th>\n",
       "      <th>Outlet_Size</th>\n",
       "      <th>Outlet_Location_Type</th>\n",
       "      <th>Outlet_Type</th>\n",
       "      <th>Item_Outlet_Sales</th>\n",
       "    </tr>\n",
       "  </thead>\n",
       "  <tbody>\n",
       "    <tr>\n",
       "      <th>0</th>\n",
       "      <td>FDA15</td>\n",
       "      <td>9.30</td>\n",
       "      <td>Low Fat</td>\n",
       "      <td>0.016047</td>\n",
       "      <td>Dairy</td>\n",
       "      <td>249.8092</td>\n",
       "      <td>OUT049</td>\n",
       "      <td>1999</td>\n",
       "      <td>Medium</td>\n",
       "      <td>Tier 1</td>\n",
       "      <td>Supermarket</td>\n",
       "      <td>3735.1380</td>\n",
       "    </tr>\n",
       "    <tr>\n",
       "      <th>1</th>\n",
       "      <td>DRC01</td>\n",
       "      <td>5.92</td>\n",
       "      <td>Regular</td>\n",
       "      <td>0.019278</td>\n",
       "      <td>Soft Drinks</td>\n",
       "      <td>48.2692</td>\n",
       "      <td>OUT018</td>\n",
       "      <td>2009</td>\n",
       "      <td>Medium</td>\n",
       "      <td>Tier 3</td>\n",
       "      <td>Supermarket</td>\n",
       "      <td>443.4228</td>\n",
       "    </tr>\n",
       "    <tr>\n",
       "      <th>2</th>\n",
       "      <td>FDN15</td>\n",
       "      <td>17.50</td>\n",
       "      <td>Low Fat</td>\n",
       "      <td>0.016760</td>\n",
       "      <td>Meat</td>\n",
       "      <td>141.6180</td>\n",
       "      <td>OUT049</td>\n",
       "      <td>1999</td>\n",
       "      <td>Medium</td>\n",
       "      <td>Tier 1</td>\n",
       "      <td>Supermarket</td>\n",
       "      <td>2097.2700</td>\n",
       "    </tr>\n",
       "    <tr>\n",
       "      <th>3</th>\n",
       "      <td>FDX07</td>\n",
       "      <td>19.20</td>\n",
       "      <td>Regular</td>\n",
       "      <td>0.000000</td>\n",
       "      <td>Fruits and Vegetables</td>\n",
       "      <td>182.0950</td>\n",
       "      <td>OUT010</td>\n",
       "      <td>1998</td>\n",
       "      <td>Undefined</td>\n",
       "      <td>Tier 3</td>\n",
       "      <td>Grocery Store</td>\n",
       "      <td>732.3800</td>\n",
       "    </tr>\n",
       "    <tr>\n",
       "      <th>4</th>\n",
       "      <td>NCD19</td>\n",
       "      <td>8.93</td>\n",
       "      <td>Low Fat</td>\n",
       "      <td>0.000000</td>\n",
       "      <td>Household</td>\n",
       "      <td>53.8614</td>\n",
       "      <td>OUT013</td>\n",
       "      <td>1987</td>\n",
       "      <td>High</td>\n",
       "      <td>Tier 3</td>\n",
       "      <td>Supermarket</td>\n",
       "      <td>994.7052</td>\n",
       "    </tr>\n",
       "  </tbody>\n",
       "</table>\n",
       "</div>"
      ],
      "text/plain": [
       "  Item_Identifier  Item_Weight Item_Fat_Content  Item_Visibility  \\\n",
       "0           FDA15         9.30          Low Fat         0.016047   \n",
       "1           DRC01         5.92          Regular         0.019278   \n",
       "2           FDN15        17.50          Low Fat         0.016760   \n",
       "3           FDX07        19.20          Regular         0.000000   \n",
       "4           NCD19         8.93          Low Fat         0.000000   \n",
       "\n",
       "               Item_Type  Item_MRP Outlet_Identifier  \\\n",
       "0                  Dairy  249.8092            OUT049   \n",
       "1            Soft Drinks   48.2692            OUT018   \n",
       "2                   Meat  141.6180            OUT049   \n",
       "3  Fruits and Vegetables  182.0950            OUT010   \n",
       "4              Household   53.8614            OUT013   \n",
       "\n",
       "   Outlet_Establishment_Year Outlet_Size Outlet_Location_Type    Outlet_Type  \\\n",
       "0                       1999      Medium               Tier 1    Supermarket   \n",
       "1                       2009      Medium               Tier 3    Supermarket   \n",
       "2                       1999      Medium               Tier 1    Supermarket   \n",
       "3                       1998   Undefined               Tier 3  Grocery Store   \n",
       "4                       1987        High               Tier 3    Supermarket   \n",
       "\n",
       "   Item_Outlet_Sales  \n",
       "0          3735.1380  \n",
       "1           443.4228  \n",
       "2          2097.2700  \n",
       "3           732.3800  \n",
       "4           994.7052  "
      ]
     },
     "execution_count": 53,
     "metadata": {},
     "output_type": "execute_result"
    }
   ],
   "source": [
    "df.head()"
   ]
  },
  {
   "cell_type": "code",
   "execution_count": null,
   "id": "b1e2f6bf",
   "metadata": {},
   "outputs": [],
   "source": []
  },
  {
   "cell_type": "code",
   "execution_count": 68,
   "id": "7f56f634",
   "metadata": {
    "ExecuteTime": {
     "end_time": "2024-02-26T16:52:39.313476Z",
     "start_time": "2024-02-26T16:52:39.306087Z"
    }
   },
   "outputs": [],
   "source": [
    "df.drop('Outlet_Establishment_Year',axis=1,inplace=True)"
   ]
  },
  {
   "cell_type": "code",
   "execution_count": 59,
   "id": "864c0ffa",
   "metadata": {
    "ExecuteTime": {
     "end_time": "2024-02-26T16:49:27.089756Z",
     "start_time": "2024-02-26T16:49:27.079369Z"
    }
   },
   "outputs": [],
   "source": [
    "df.drop('Outlet_Identifier',axis=1,inplace=True)"
   ]
  },
  {
   "cell_type": "code",
   "execution_count": 57,
   "id": "a46b954c",
   "metadata": {
    "ExecuteTime": {
     "end_time": "2024-02-26T16:48:48.548474Z",
     "start_time": "2024-02-26T16:48:48.540955Z"
    }
   },
   "outputs": [],
   "source": [
    "df.drop('Item_Identifier',axis=1,inplace=True)"
   ]
  },
  {
   "cell_type": "code",
   "execution_count": 54,
   "id": "cc81064f",
   "metadata": {
    "ExecuteTime": {
     "end_time": "2024-02-26T16:48:04.747546Z",
     "start_time": "2024-02-26T16:48:04.739411Z"
    }
   },
   "outputs": [
    {
     "data": {
      "text/plain": [
       "16"
      ]
     },
     "execution_count": 54,
     "metadata": {},
     "output_type": "execute_result"
    }
   ],
   "source": [
    "df.Item_Type.value_counts().count()"
   ]
  },
  {
   "cell_type": "code",
   "execution_count": 55,
   "id": "f07ea8f3",
   "metadata": {
    "ExecuteTime": {
     "end_time": "2024-02-26T16:48:05.277287Z",
     "start_time": "2024-02-26T16:48:05.240669Z"
    }
   },
   "outputs": [],
   "source": [
    "fruits_and_vegetables_data = df[df['Item_Type'] == 'Fruits and Vegetables']\n",
    "snack_foods_data = df[df['Item_Type'] == 'Snack Foods']\n",
    "household_data = df[df['Item_Type'] == 'Household']\n",
    "frozen_foods_data = df[df['Item_Type'] == 'Frozen Foods']\n",
    "dairy_data = df[df['Item_Type'] == 'Dairy']\n",
    "canned_data = df[df['Item_Type'] == 'Canned']\n",
    "baking_goods_data = df[df['Item_Type'] == 'Baking Goods']\n",
    "health_and_hygiene_data = df[df['Item_Type'] == 'Health and Hygiene']\n",
    "soft_drinks_data = df[df['Item_Type'] == 'Soft Drinks']\n",
    "meat_data = df[df['Item_Type'] == 'Meat']\n",
    "breads_data = df[df['Item_Type'] == 'Breads']\n",
    "hard_drinks_data = df[df['Item_Type'] == 'Hard Drinks']\n",
    "others_data = df[df['Item_Type'] == 'Others']\n",
    "starchy_foods_data = df[df['Item_Type'] == 'Starchy Foods']\n",
    "breakfast_data = df[df['Item_Type'] == 'Breakfast']\n",
    "seafood_data = df[df['Item_Type'] == 'Seafood']"
   ]
  },
  {
   "cell_type": "code",
   "execution_count": 60,
   "id": "aeb9dff7",
   "metadata": {
    "ExecuteTime": {
     "end_time": "2024-02-26T16:49:29.291346Z",
     "start_time": "2024-02-26T16:49:29.274346Z"
    },
    "collapsed": true
   },
   "outputs": [
    {
     "name": "stdout",
     "output_type": "stream",
     "text": [
      "Column: Item_Fat_Content\n",
      "Item_Fat_Content\n",
      "Low Fat    5089\n",
      "Regular    2889\n",
      "LF          316\n",
      "reg         117\n",
      "low fat     112\n",
      "Name: count, dtype: int64\n",
      "\n",
      "\n",
      "Column: Item_Type\n",
      "Item_Type\n",
      "Fruits and Vegetables    1232\n",
      "Snack Foods              1200\n",
      "Household                 910\n",
      "Frozen Foods              856\n",
      "Dairy                     682\n",
      "Canned                    649\n",
      "Baking Goods              648\n",
      "Health and Hygiene        520\n",
      "Soft Drinks               445\n",
      "Meat                      425\n",
      "Breads                    251\n",
      "Hard Drinks               214\n",
      "Others                    169\n",
      "Starchy Foods             148\n",
      "Breakfast                 110\n",
      "Seafood                    64\n",
      "Name: count, dtype: int64\n",
      "\n",
      "\n",
      "Column: Outlet_Size\n",
      "Outlet_Size\n",
      "Medium       2793\n",
      "Undefined    2410\n",
      "Small        2388\n",
      "High          932\n",
      "Name: count, dtype: int64\n",
      "\n",
      "\n",
      "Column: Outlet_Location_Type\n",
      "Outlet_Location_Type\n",
      "Tier 3    3350\n",
      "Tier 2    2785\n",
      "Tier 1    2388\n",
      "Name: count, dtype: int64\n",
      "\n",
      "\n",
      "Column: Outlet_Type\n",
      "Outlet_Type\n",
      "Supermarket      7440\n",
      "Grocery Store    1083\n",
      "Name: count, dtype: int64\n",
      "\n",
      "\n"
     ]
    }
   ],
   "source": [
    "categorical_columns = df.select_dtypes(include=['object']).columns\n",
    "\n",
    "for column in categorical_columns:\n",
    "    print(f\"Column: {column}\")\n",
    "    print(df[column].value_counts())\n",
    "    print(\"\\n\")"
   ]
  },
  {
   "cell_type": "code",
   "execution_count": 62,
   "id": "bfbaaad7",
   "metadata": {
    "ExecuteTime": {
     "end_time": "2024-02-26T16:50:55.384621Z",
     "start_time": "2024-02-26T16:50:55.361621Z"
    }
   },
   "outputs": [],
   "source": [
    "from sklearn.preprocessing import LabelEncoder\n",
    "label_encoder = LabelEncoder()\n",
    "\n",
    "# List of categorical columns to encode\n",
    "categorical_columns = ['Item_Fat_Content', 'Item_Type', 'Outlet_Size', 'Outlet_Location_Type', 'Outlet_Type']\n",
    "\n",
    "# Loop through each column and apply label encoding\n",
    "for column in categorical_columns:\n",
    "    df[column] = label_encoder.fit_transform(df[column])"
   ]
  },
  {
   "cell_type": "code",
   "execution_count": 70,
   "id": "50f742c1",
   "metadata": {
    "ExecuteTime": {
     "end_time": "2024-02-26T16:53:34.856049Z",
     "start_time": "2024-02-26T16:53:34.840892Z"
    }
   },
   "outputs": [
    {
     "data": {
      "text/html": [
       "<div>\n",
       "<style scoped>\n",
       "    .dataframe tbody tr th:only-of-type {\n",
       "        vertical-align: middle;\n",
       "    }\n",
       "\n",
       "    .dataframe tbody tr th {\n",
       "        vertical-align: top;\n",
       "    }\n",
       "\n",
       "    .dataframe thead th {\n",
       "        text-align: right;\n",
       "    }\n",
       "</style>\n",
       "<table border=\"1\" class=\"dataframe\">\n",
       "  <thead>\n",
       "    <tr style=\"text-align: right;\">\n",
       "      <th></th>\n",
       "      <th>Item_Weight</th>\n",
       "      <th>Item_Fat_Content</th>\n",
       "      <th>Item_Visibility</th>\n",
       "      <th>Item_Type</th>\n",
       "      <th>Item_MRP</th>\n",
       "      <th>Outlet_Size</th>\n",
       "      <th>Outlet_Location_Type</th>\n",
       "      <th>Outlet_Type</th>\n",
       "      <th>Item_Outlet_Sales</th>\n",
       "      <th>cluster</th>\n",
       "    </tr>\n",
       "  </thead>\n",
       "  <tbody>\n",
       "    <tr>\n",
       "      <th>0</th>\n",
       "      <td>9.30</td>\n",
       "      <td>1</td>\n",
       "      <td>0.016047</td>\n",
       "      <td>4</td>\n",
       "      <td>249.8092</td>\n",
       "      <td>1</td>\n",
       "      <td>0</td>\n",
       "      <td>1</td>\n",
       "      <td>3735.1380</td>\n",
       "      <td>1</td>\n",
       "    </tr>\n",
       "    <tr>\n",
       "      <th>1</th>\n",
       "      <td>5.92</td>\n",
       "      <td>2</td>\n",
       "      <td>0.019278</td>\n",
       "      <td>14</td>\n",
       "      <td>48.2692</td>\n",
       "      <td>1</td>\n",
       "      <td>2</td>\n",
       "      <td>1</td>\n",
       "      <td>443.4228</td>\n",
       "      <td>0</td>\n",
       "    </tr>\n",
       "    <tr>\n",
       "      <th>2</th>\n",
       "      <td>17.50</td>\n",
       "      <td>1</td>\n",
       "      <td>0.016760</td>\n",
       "      <td>10</td>\n",
       "      <td>141.6180</td>\n",
       "      <td>1</td>\n",
       "      <td>0</td>\n",
       "      <td>1</td>\n",
       "      <td>2097.2700</td>\n",
       "      <td>0</td>\n",
       "    </tr>\n",
       "    <tr>\n",
       "      <th>3</th>\n",
       "      <td>19.20</td>\n",
       "      <td>2</td>\n",
       "      <td>0.000000</td>\n",
       "      <td>6</td>\n",
       "      <td>182.0950</td>\n",
       "      <td>3</td>\n",
       "      <td>2</td>\n",
       "      <td>0</td>\n",
       "      <td>732.3800</td>\n",
       "      <td>0</td>\n",
       "    </tr>\n",
       "    <tr>\n",
       "      <th>4</th>\n",
       "      <td>8.93</td>\n",
       "      <td>1</td>\n",
       "      <td>0.000000</td>\n",
       "      <td>9</td>\n",
       "      <td>53.8614</td>\n",
       "      <td>0</td>\n",
       "      <td>2</td>\n",
       "      <td>1</td>\n",
       "      <td>994.7052</td>\n",
       "      <td>0</td>\n",
       "    </tr>\n",
       "  </tbody>\n",
       "</table>\n",
       "</div>"
      ],
      "text/plain": [
       "   Item_Weight  Item_Fat_Content  Item_Visibility  Item_Type  Item_MRP  \\\n",
       "0         9.30                 1         0.016047          4  249.8092   \n",
       "1         5.92                 2         0.019278         14   48.2692   \n",
       "2        17.50                 1         0.016760         10  141.6180   \n",
       "3        19.20                 2         0.000000          6  182.0950   \n",
       "4         8.93                 1         0.000000          9   53.8614   \n",
       "\n",
       "   Outlet_Size  Outlet_Location_Type  Outlet_Type  Item_Outlet_Sales  cluster  \n",
       "0            1                     0            1          3735.1380        1  \n",
       "1            1                     2            1           443.4228        0  \n",
       "2            1                     0            1          2097.2700        0  \n",
       "3            3                     2            0           732.3800        0  \n",
       "4            0                     2            1           994.7052        0  "
      ]
     },
     "execution_count": 70,
     "metadata": {},
     "output_type": "execute_result"
    }
   ],
   "source": [
    "df.head()"
   ]
  },
  {
   "cell_type": "code",
   "execution_count": 63,
   "id": "beb48f0f",
   "metadata": {
    "ExecuteTime": {
     "end_time": "2024-02-26T16:50:58.101113Z",
     "start_time": "2024-02-26T16:50:58.095400Z"
    }
   },
   "outputs": [],
   "source": [
    "new = df[['Item_Outlet_Sales','Item_Visibility','Item_MRP']]"
   ]
  },
  {
   "cell_type": "code",
   "execution_count": 64,
   "id": "dbb316d2",
   "metadata": {
    "ExecuteTime": {
     "end_time": "2024-02-26T16:50:59.626445Z",
     "start_time": "2024-02-26T16:50:59.265385Z"
    }
   },
   "outputs": [
    {
     "data": {
      "image/png": "[encoded data removed]",
      "text/plain": [
       "<Figure size 640x480 with 1 Axes>"
      ]
     },
     "metadata": {},
     "output_type": "display_data"
    }
   ],
   "source": [
    "import pandas as pd\n",
    "from sklearn.cluster import KMeans\n",
    "from sklearn.preprocessing import StandardScaler\n",
    "import matplotlib.pyplot as plt\n",
    "\n",
    "scaler = StandardScaler()\n",
    "scaled_data = scaler.fit_transform(new)\n",
    "\n",
    "inertia = []\n",
    "for i in range(1, 11):\n",
    "    kmeans = KMeans(n_clusters=i, random_state=42)\n",
    "    kmeans.fit(scaled_data)\n",
    "    inertia.append(kmeans.inertia_)\n",
    "\n",
    "plt.plot(range(1, 11), inertia, marker='o')\n",
    "plt.xlabel('Number of Clusters')\n",
    "plt.ylabel('Inertia (Within-cluster sum of squares)')\n",
    "plt.title('Elbow Method for Optimal k')\n",
    "plt.show()\n"
   ]
  },
  {
   "cell_type": "code",
   "execution_count": 85,
   "id": "d10bbfbb",
   "metadata": {
    "ExecuteTime": {
     "end_time": "2024-02-26T17:01:20.058044Z",
     "start_time": "2024-02-26T17:01:20.046898Z"
    }
   },
   "outputs": [],
   "source": [
    "from sklearn.preprocessing import StandardScaler\n",
    "\n",
    "d = df[df['Item_Type'] == 1]\n",
    "scaler = StandardScaler()\n",
    "a = scaler.fit_transform(d['Item_MRP'].values.reshape(-1, 1))"
   ]
  },
  {
   "cell_type": "code",
   "execution_count": 94,
   "id": "a9850802",
   "metadata": {
    "ExecuteTime": {
     "end_time": "2024-02-26T17:11:52.750795Z",
     "start_time": "2024-02-26T17:11:52.728363Z"
    }
   },
   "outputs": [
    {
     "data": {
      "text/html": [
       "<div>\n",
       "<style scoped>\n",
       "    .dataframe tbody tr th:only-of-type {\n",
       "        vertical-align: middle;\n",
       "    }\n",
       "\n",
       "    .dataframe tbody tr th {\n",
       "        vertical-align: top;\n",
       "    }\n",
       "\n",
       "    .dataframe thead th {\n",
       "        text-align: right;\n",
       "    }\n",
       "</style>\n",
       "<table border=\"1\" class=\"dataframe\">\n",
       "  <thead>\n",
       "    <tr style=\"text-align: right;\">\n",
       "      <th></th>\n",
       "      <th>Item_Identifier</th>\n",
       "      <th>Item_Weight</th>\n",
       "      <th>Item_Fat_Content</th>\n",
       "      <th>Item_Visibility</th>\n",
       "      <th>Item_Type</th>\n",
       "      <th>Item_MRP</th>\n",
       "      <th>Outlet_Identifier</th>\n",
       "      <th>Outlet_Establishment_Year</th>\n",
       "      <th>Outlet_Size</th>\n",
       "      <th>Outlet_Location_Type</th>\n",
       "      <th>Outlet_Type</th>\n",
       "      <th>Item_Outlet_Sales</th>\n",
       "      <th>cluster</th>\n",
       "    </tr>\n",
       "  </thead>\n",
       "  <tbody>\n",
       "    <tr>\n",
       "      <th>0</th>\n",
       "      <td>FDA15</td>\n",
       "      <td>9.300</td>\n",
       "      <td>Low Fat</td>\n",
       "      <td>0.016047</td>\n",
       "      <td>Dairy</td>\n",
       "      <td>249.8092</td>\n",
       "      <td>OUT049</td>\n",
       "      <td>1999</td>\n",
       "      <td>Medium</td>\n",
       "      <td>Tier 1</td>\n",
       "      <td>Supermarket</td>\n",
       "      <td>3735.1380</td>\n",
       "      <td>1</td>\n",
       "    </tr>\n",
       "    <tr>\n",
       "      <th>11</th>\n",
       "      <td>FDA03</td>\n",
       "      <td>18.500</td>\n",
       "      <td>Regular</td>\n",
       "      <td>0.045464</td>\n",
       "      <td>Dairy</td>\n",
       "      <td>144.1102</td>\n",
       "      <td>OUT046</td>\n",
       "      <td>1997</td>\n",
       "      <td>Small</td>\n",
       "      <td>Tier 1</td>\n",
       "      <td>Supermarket</td>\n",
       "      <td>2187.1530</td>\n",
       "      <td>0</td>\n",
       "    </tr>\n",
       "    <tr>\n",
       "      <th>19</th>\n",
       "      <td>FDU02</td>\n",
       "      <td>13.350</td>\n",
       "      <td>Low Fat</td>\n",
       "      <td>0.102492</td>\n",
       "      <td>Dairy</td>\n",
       "      <td>230.5352</td>\n",
       "      <td>OUT035</td>\n",
       "      <td>2004</td>\n",
       "      <td>Small</td>\n",
       "      <td>Tier 2</td>\n",
       "      <td>Supermarket</td>\n",
       "      <td>2748.4224</td>\n",
       "      <td>1</td>\n",
       "    </tr>\n",
       "    <tr>\n",
       "      <th>28</th>\n",
       "      <td>FDE51</td>\n",
       "      <td>5.925</td>\n",
       "      <td>Regular</td>\n",
       "      <td>0.161467</td>\n",
       "      <td>Dairy</td>\n",
       "      <td>45.5086</td>\n",
       "      <td>OUT010</td>\n",
       "      <td>1998</td>\n",
       "      <td>Undefined</td>\n",
       "      <td>Tier 3</td>\n",
       "      <td>Grocery Store</td>\n",
       "      <td>178.4344</td>\n",
       "      <td>2</td>\n",
       "    </tr>\n",
       "    <tr>\n",
       "      <th>30</th>\n",
       "      <td>FDV38</td>\n",
       "      <td>19.250</td>\n",
       "      <td>Low Fat</td>\n",
       "      <td>0.170349</td>\n",
       "      <td>Dairy</td>\n",
       "      <td>55.7956</td>\n",
       "      <td>OUT010</td>\n",
       "      <td>1998</td>\n",
       "      <td>Undefined</td>\n",
       "      <td>Tier 3</td>\n",
       "      <td>Grocery Store</td>\n",
       "      <td>163.7868</td>\n",
       "      <td>2</td>\n",
       "    </tr>\n",
       "  </tbody>\n",
       "</table>\n",
       "</div>"
      ],
      "text/plain": [
       "   Item_Identifier  Item_Weight Item_Fat_Content  Item_Visibility Item_Type  \\\n",
       "0            FDA15        9.300          Low Fat         0.016047     Dairy   \n",
       "11           FDA03       18.500          Regular         0.045464     Dairy   \n",
       "19           FDU02       13.350          Low Fat         0.102492     Dairy   \n",
       "28           FDE51        5.925          Regular         0.161467     Dairy   \n",
       "30           FDV38       19.250          Low Fat         0.170349     Dairy   \n",
       "\n",
       "    Item_MRP Outlet_Identifier  Outlet_Establishment_Year Outlet_Size  \\\n",
       "0   249.8092            OUT049                       1999      Medium   \n",
       "11  144.1102            OUT046                       1997       Small   \n",
       "19  230.5352            OUT035                       2004       Small   \n",
       "28   45.5086            OUT010                       1998   Undefined   \n",
       "30   55.7956            OUT010                       1998   Undefined   \n",
       "\n",
       "   Outlet_Location_Type    Outlet_Type  Item_Outlet_Sales  cluster  \n",
       "0                Tier 1    Supermarket          3735.1380        1  \n",
       "11               Tier 1    Supermarket          2187.1530        0  \n",
       "19               Tier 2    Supermarket          2748.4224        1  \n",
       "28               Tier 3  Grocery Store           178.4344        2  \n",
       "30               Tier 3  Grocery Store           163.7868        2  "
      ]
     },
     "execution_count": 94,
     "metadata": {},
     "output_type": "execute_result"
    }
   ],
   "source": [
    "dairy_data.head()"
   ]
  },
  {
   "cell_type": "markdown",
   "id": "5955b66e",
   "metadata": {},
   "source": [
    "## for in Item_type == dairy_data"
   ]
  },
  {
   "cell_type": "raw",
   "id": "bef4b4e0",
   "metadata": {},
   "source": [
    "cluster_1_data = sale pn changale hotay ani profit pn \n",
    "cluster_0_data = sale pn avg hotay ani profit pn \n",
    "cluster_2_data = sale pn changali hotay nahi ani profit pn hy product chya sales var kam karyla hav "
   ]
  },
  {
   "cell_type": "code",
   "execution_count": 103,
   "id": "b08589a5",
   "metadata": {
    "ExecuteTime": {
     "end_time": "2024-02-26T17:20:19.294719Z",
     "start_time": "2024-02-26T17:20:19.022646Z"
    }
   },
   "outputs": [
    {
     "data": {
      "image/png": "[encoded data removed]",
      "text/plain": [
       "<Figure size 640x480 with 1 Axes>"
      ]
     },
     "metadata": {},
     "output_type": "display_data"
    }
   ],
   "source": [
    "import pandas as pd\n",
    "from sklearn.cluster import KMeans\n",
    "from sklearn.preprocessing import StandardScaler\n",
    "import matplotlib.pyplot as plt\n",
    "from sklearn.decomposition import PCA \n",
    "\n",
    "# Using only 'Item_MRP' for clustering\n",
    "old = dairy_data[['Item_MRP']]\n",
    "\n",
    "# Performing K-means clustering\n",
    "kmeans = KMeans(n_clusters=3, random_state=42)\n",
    "dairy_data['cluster'] = kmeans.fit_predict(old)\n",
    "\n",
    "# Scatter plot with color-coded clusters\n",
    "scatter = plt.scatter(dairy_data['Item_Outlet_Sales'], dairy_data['Item_MRP'], c=dairy_data['cluster'], cmap='viridis')\n",
    "\n",
    "# Creating a legend based on unique cluster values\n",
    "legend_labels = [f'Cluster {cluster}' for cluster in sorted(dairy_data['cluster'].unique())]\n",
    "plt.legend(handles=scatter.legend_elements()[0], labels=legend_labels, title=\"Clusters\")\n",
    "\n",
    "# Setting labels and title\n",
    "plt.title('K-Means Clustering')\n",
    "plt.xlabel('Item_Outlet_Sales')\n",
    "plt.ylabel('Item_MRP')\n",
    "\n",
    "plt.show()"
   ]
  },
  {
   "cell_type": "code",
   "execution_count": 104,
   "id": "40ca4f43",
   "metadata": {
    "ExecuteTime": {
     "end_time": "2024-02-26T17:23:02.926973Z",
     "start_time": "2024-02-26T17:23:02.918103Z"
    }
   },
   "outputs": [],
   "source": [
    "cluster_0_data = dairy_data[dairy_data['cluster'] == 0]\n",
    "cluster_1_data = dairy_data[dairy_data['cluster'] == 1]\n",
    "cluster_2_data = dairy_data[dairy_data['cluster'] == 2]"
   ]
  },
  {
   "cell_type": "code",
   "execution_count": 108,
   "id": "3d7b19fc",
   "metadata": {
    "ExecuteTime": {
     "end_time": "2024-02-26T17:24:52.149027Z",
     "start_time": "2024-02-26T17:24:52.127518Z"
    }
   },
   "outputs": [
    {
     "data": {
      "text/html": [
       "<div>\n",
       "<style scoped>\n",
       "    .dataframe tbody tr th:only-of-type {\n",
       "        vertical-align: middle;\n",
       "    }\n",
       "\n",
       "    .dataframe tbody tr th {\n",
       "        vertical-align: top;\n",
       "    }\n",
       "\n",
       "    .dataframe thead th {\n",
       "        text-align: right;\n",
       "    }\n",
       "</style>\n",
       "<table border=\"1\" class=\"dataframe\">\n",
       "  <thead>\n",
       "    <tr style=\"text-align: right;\">\n",
       "      <th></th>\n",
       "      <th>Item_Identifier</th>\n",
       "      <th>Item_Weight</th>\n",
       "      <th>Item_Fat_Content</th>\n",
       "      <th>Item_Visibility</th>\n",
       "      <th>Item_Type</th>\n",
       "      <th>Item_MRP</th>\n",
       "      <th>Outlet_Identifier</th>\n",
       "      <th>Outlet_Establishment_Year</th>\n",
       "      <th>Outlet_Size</th>\n",
       "      <th>Outlet_Location_Type</th>\n",
       "      <th>Outlet_Type</th>\n",
       "      <th>Item_Outlet_Sales</th>\n",
       "      <th>cluster</th>\n",
       "    </tr>\n",
       "  </thead>\n",
       "  <tbody>\n",
       "    <tr>\n",
       "      <th>11</th>\n",
       "      <td>FDA03</td>\n",
       "      <td>18.50</td>\n",
       "      <td>Regular</td>\n",
       "      <td>0.045464</td>\n",
       "      <td>Dairy</td>\n",
       "      <td>144.1102</td>\n",
       "      <td>OUT046</td>\n",
       "      <td>1997</td>\n",
       "      <td>Small</td>\n",
       "      <td>Tier 1</td>\n",
       "      <td>Supermarket</td>\n",
       "      <td>2187.1530</td>\n",
       "      <td>0</td>\n",
       "    </tr>\n",
       "    <tr>\n",
       "      <th>45</th>\n",
       "      <td>FDM39</td>\n",
       "      <td>6.42</td>\n",
       "      <td>LF</td>\n",
       "      <td>0.089499</td>\n",
       "      <td>Dairy</td>\n",
       "      <td>178.1002</td>\n",
       "      <td>OUT010</td>\n",
       "      <td>1998</td>\n",
       "      <td>Undefined</td>\n",
       "      <td>Tier 3</td>\n",
       "      <td>Grocery Store</td>\n",
       "      <td>358.2004</td>\n",
       "      <td>0</td>\n",
       "    </tr>\n",
       "    <tr>\n",
       "      <th>67</th>\n",
       "      <td>FDZ03</td>\n",
       "      <td>13.65</td>\n",
       "      <td>Regular</td>\n",
       "      <td>0.078946</td>\n",
       "      <td>Dairy</td>\n",
       "      <td>186.0240</td>\n",
       "      <td>OUT045</td>\n",
       "      <td>2002</td>\n",
       "      <td>Undefined</td>\n",
       "      <td>Tier 2</td>\n",
       "      <td>Supermarket</td>\n",
       "      <td>1118.5440</td>\n",
       "      <td>0</td>\n",
       "    </tr>\n",
       "    <tr>\n",
       "      <th>183</th>\n",
       "      <td>FDU50</td>\n",
       "      <td>5.75</td>\n",
       "      <td>Regular</td>\n",
       "      <td>0.075108</td>\n",
       "      <td>Dairy</td>\n",
       "      <td>112.8176</td>\n",
       "      <td>OUT013</td>\n",
       "      <td>1987</td>\n",
       "      <td>High</td>\n",
       "      <td>Tier 3</td>\n",
       "      <td>Supermarket</td>\n",
       "      <td>1374.2112</td>\n",
       "      <td>0</td>\n",
       "    </tr>\n",
       "    <tr>\n",
       "      <th>227</th>\n",
       "      <td>DRF27</td>\n",
       "      <td>NaN</td>\n",
       "      <td>Low Fat</td>\n",
       "      <td>0.049755</td>\n",
       "      <td>Dairy</td>\n",
       "      <td>152.1340</td>\n",
       "      <td>OUT019</td>\n",
       "      <td>1985</td>\n",
       "      <td>Small</td>\n",
       "      <td>Tier 1</td>\n",
       "      <td>Grocery Store</td>\n",
       "      <td>153.1340</td>\n",
       "      <td>0</td>\n",
       "    </tr>\n",
       "  </tbody>\n",
       "</table>\n",
       "</div>"
      ],
      "text/plain": [
       "    Item_Identifier  Item_Weight Item_Fat_Content  Item_Visibility Item_Type  \\\n",
       "11            FDA03        18.50          Regular         0.045464     Dairy   \n",
       "45            FDM39         6.42               LF         0.089499     Dairy   \n",
       "67            FDZ03        13.65          Regular         0.078946     Dairy   \n",
       "183           FDU50         5.75          Regular         0.075108     Dairy   \n",
       "227           DRF27          NaN          Low Fat         0.049755     Dairy   \n",
       "\n",
       "     Item_MRP Outlet_Identifier  Outlet_Establishment_Year Outlet_Size  \\\n",
       "11   144.1102            OUT046                       1997       Small   \n",
       "45   178.1002            OUT010                       1998   Undefined   \n",
       "67   186.0240            OUT045                       2002   Undefined   \n",
       "183  112.8176            OUT013                       1987        High   \n",
       "227  152.1340            OUT019                       1985       Small   \n",
       "\n",
       "    Outlet_Location_Type    Outlet_Type  Item_Outlet_Sales  cluster  \n",
       "11                Tier 1    Supermarket          2187.1530        0  \n",
       "45                Tier 3  Grocery Store           358.2004        0  \n",
       "67                Tier 2    Supermarket          1118.5440        0  \n",
       "183               Tier 3    Supermarket          1374.2112        0  \n",
       "227               Tier 1  Grocery Store           153.1340        0  "
      ]
     },
     "execution_count": 108,
     "metadata": {},
     "output_type": "execute_result"
    }
   ],
   "source": [
    "cluster_0_data.head()"
   ]
  },
  {
   "cell_type": "code",
   "execution_count": 114,
   "id": "7b2ed35f",
   "metadata": {
    "ExecuteTime": {
     "end_time": "2024-02-26T17:26:34.642984Z",
     "start_time": "2024-02-26T17:26:34.633475Z"
    }
   },
   "outputs": [
    {
     "data": {
      "text/plain": [
       "cluster\n",
       "2    231\n",
       "0    230\n",
       "1    221\n",
       "Name: count, dtype: int64"
      ]
     },
     "execution_count": 114,
     "metadata": {},
     "output_type": "execute_result"
    }
   ],
   "source": [
    "dairy_data.cluster.value_counts()"
   ]
  },
  {
   "cell_type": "code",
   "execution_count": 111,
   "id": "744a1312",
   "metadata": {
    "ExecuteTime": {
     "end_time": "2024-02-26T17:25:12.979398Z",
     "start_time": "2024-02-26T17:25:12.971735Z"
    }
   },
   "outputs": [
    {
     "data": {
      "text/plain": [
       "(230, 13)"
      ]
     },
     "execution_count": 111,
     "metadata": {},
     "output_type": "execute_result"
    }
   ],
   "source": [
    "cluster_0_data.shape"
   ]
  },
  {
   "cell_type": "code",
   "execution_count": 109,
   "id": "6dacbefb",
   "metadata": {
    "ExecuteTime": {
     "end_time": "2024-02-26T17:24:52.354361Z",
     "start_time": "2024-02-26T17:24:52.334860Z"
    }
   },
   "outputs": [
    {
     "data": {
      "text/html": [
       "<div>\n",
       "<style scoped>\n",
       "    .dataframe tbody tr th:only-of-type {\n",
       "        vertical-align: middle;\n",
       "    }\n",
       "\n",
       "    .dataframe tbody tr th {\n",
       "        vertical-align: top;\n",
       "    }\n",
       "\n",
       "    .dataframe thead th {\n",
       "        text-align: right;\n",
       "    }\n",
       "</style>\n",
       "<table border=\"1\" class=\"dataframe\">\n",
       "  <thead>\n",
       "    <tr style=\"text-align: right;\">\n",
       "      <th></th>\n",
       "      <th>Item_Identifier</th>\n",
       "      <th>Item_Weight</th>\n",
       "      <th>Item_Fat_Content</th>\n",
       "      <th>Item_Visibility</th>\n",
       "      <th>Item_Type</th>\n",
       "      <th>Item_MRP</th>\n",
       "      <th>Outlet_Identifier</th>\n",
       "      <th>Outlet_Establishment_Year</th>\n",
       "      <th>Outlet_Size</th>\n",
       "      <th>Outlet_Location_Type</th>\n",
       "      <th>Outlet_Type</th>\n",
       "      <th>Item_Outlet_Sales</th>\n",
       "      <th>cluster</th>\n",
       "    </tr>\n",
       "  </thead>\n",
       "  <tbody>\n",
       "    <tr>\n",
       "      <th>0</th>\n",
       "      <td>FDA15</td>\n",
       "      <td>9.30</td>\n",
       "      <td>Low Fat</td>\n",
       "      <td>0.016047</td>\n",
       "      <td>Dairy</td>\n",
       "      <td>249.8092</td>\n",
       "      <td>OUT049</td>\n",
       "      <td>1999</td>\n",
       "      <td>Medium</td>\n",
       "      <td>Tier 1</td>\n",
       "      <td>Supermarket</td>\n",
       "      <td>3735.1380</td>\n",
       "      <td>1</td>\n",
       "    </tr>\n",
       "    <tr>\n",
       "      <th>19</th>\n",
       "      <td>FDU02</td>\n",
       "      <td>13.35</td>\n",
       "      <td>Low Fat</td>\n",
       "      <td>0.102492</td>\n",
       "      <td>Dairy</td>\n",
       "      <td>230.5352</td>\n",
       "      <td>OUT035</td>\n",
       "      <td>2004</td>\n",
       "      <td>Small</td>\n",
       "      <td>Tier 2</td>\n",
       "      <td>Supermarket</td>\n",
       "      <td>2748.4224</td>\n",
       "      <td>1</td>\n",
       "    </tr>\n",
       "    <tr>\n",
       "      <th>40</th>\n",
       "      <td>FDU02</td>\n",
       "      <td>13.35</td>\n",
       "      <td>Low Fat</td>\n",
       "      <td>0.102512</td>\n",
       "      <td>Dairy</td>\n",
       "      <td>230.6352</td>\n",
       "      <td>OUT046</td>\n",
       "      <td>1997</td>\n",
       "      <td>Small</td>\n",
       "      <td>Tier 1</td>\n",
       "      <td>Supermarket</td>\n",
       "      <td>3435.5280</td>\n",
       "      <td>1</td>\n",
       "    </tr>\n",
       "    <tr>\n",
       "      <th>49</th>\n",
       "      <td>FDS02</td>\n",
       "      <td>NaN</td>\n",
       "      <td>Regular</td>\n",
       "      <td>0.255395</td>\n",
       "      <td>Dairy</td>\n",
       "      <td>196.8794</td>\n",
       "      <td>OUT019</td>\n",
       "      <td>1985</td>\n",
       "      <td>Small</td>\n",
       "      <td>Tier 1</td>\n",
       "      <td>Grocery Store</td>\n",
       "      <td>780.3176</td>\n",
       "      <td>1</td>\n",
       "    </tr>\n",
       "    <tr>\n",
       "      <th>110</th>\n",
       "      <td>FDD03</td>\n",
       "      <td>13.30</td>\n",
       "      <td>Low Fat</td>\n",
       "      <td>0.079806</td>\n",
       "      <td>Dairy</td>\n",
       "      <td>232.5300</td>\n",
       "      <td>OUT046</td>\n",
       "      <td>1997</td>\n",
       "      <td>Small</td>\n",
       "      <td>Tier 1</td>\n",
       "      <td>Supermarket</td>\n",
       "      <td>699.0900</td>\n",
       "      <td>1</td>\n",
       "    </tr>\n",
       "  </tbody>\n",
       "</table>\n",
       "</div>"
      ],
      "text/plain": [
       "    Item_Identifier  Item_Weight Item_Fat_Content  Item_Visibility Item_Type  \\\n",
       "0             FDA15         9.30          Low Fat         0.016047     Dairy   \n",
       "19            FDU02        13.35          Low Fat         0.102492     Dairy   \n",
       "40            FDU02        13.35          Low Fat         0.102512     Dairy   \n",
       "49            FDS02          NaN          Regular         0.255395     Dairy   \n",
       "110           FDD03        13.30          Low Fat         0.079806     Dairy   \n",
       "\n",
       "     Item_MRP Outlet_Identifier  Outlet_Establishment_Year Outlet_Size  \\\n",
       "0    249.8092            OUT049                       1999      Medium   \n",
       "19   230.5352            OUT035                       2004       Small   \n",
       "40   230.6352            OUT046                       1997       Small   \n",
       "49   196.8794            OUT019                       1985       Small   \n",
       "110  232.5300            OUT046                       1997       Small   \n",
       "\n",
       "    Outlet_Location_Type    Outlet_Type  Item_Outlet_Sales  cluster  \n",
       "0                 Tier 1    Supermarket          3735.1380        1  \n",
       "19                Tier 2    Supermarket          2748.4224        1  \n",
       "40                Tier 1    Supermarket          3435.5280        1  \n",
       "49                Tier 1  Grocery Store           780.3176        1  \n",
       "110               Tier 1    Supermarket           699.0900        1  "
      ]
     },
     "execution_count": 109,
     "metadata": {},
     "output_type": "execute_result"
    }
   ],
   "source": [
    "cluster_1_data.head()"
   ]
  },
  {
   "cell_type": "code",
   "execution_count": 112,
   "id": "ce2118e6",
   "metadata": {
    "ExecuteTime": {
     "end_time": "2024-02-26T17:25:33.445246Z",
     "start_time": "2024-02-26T17:25:33.438666Z"
    }
   },
   "outputs": [
    {
     "data": {
      "text/plain": [
       "(221, 13)"
      ]
     },
     "execution_count": 112,
     "metadata": {},
     "output_type": "execute_result"
    }
   ],
   "source": [
    "cluster_1_data.shape"
   ]
  },
  {
   "cell_type": "code",
   "execution_count": 110,
   "id": "221c8699",
   "metadata": {
    "ExecuteTime": {
     "end_time": "2024-02-26T17:24:55.773795Z",
     "start_time": "2024-02-26T17:24:55.747679Z"
    }
   },
   "outputs": [
    {
     "data": {
      "text/html": [
       "<div>\n",
       "<style scoped>\n",
       "    .dataframe tbody tr th:only-of-type {\n",
       "        vertical-align: middle;\n",
       "    }\n",
       "\n",
       "    .dataframe tbody tr th {\n",
       "        vertical-align: top;\n",
       "    }\n",
       "\n",
       "    .dataframe thead th {\n",
       "        text-align: right;\n",
       "    }\n",
       "</style>\n",
       "<table border=\"1\" class=\"dataframe\">\n",
       "  <thead>\n",
       "    <tr style=\"text-align: right;\">\n",
       "      <th></th>\n",
       "      <th>Item_Identifier</th>\n",
       "      <th>Item_Weight</th>\n",
       "      <th>Item_Fat_Content</th>\n",
       "      <th>Item_Visibility</th>\n",
       "      <th>Item_Type</th>\n",
       "      <th>Item_MRP</th>\n",
       "      <th>Outlet_Identifier</th>\n",
       "      <th>Outlet_Establishment_Year</th>\n",
       "      <th>Outlet_Size</th>\n",
       "      <th>Outlet_Location_Type</th>\n",
       "      <th>Outlet_Type</th>\n",
       "      <th>Item_Outlet_Sales</th>\n",
       "      <th>cluster</th>\n",
       "    </tr>\n",
       "  </thead>\n",
       "  <tbody>\n",
       "    <tr>\n",
       "      <th>28</th>\n",
       "      <td>FDE51</td>\n",
       "      <td>5.925</td>\n",
       "      <td>Regular</td>\n",
       "      <td>0.161467</td>\n",
       "      <td>Dairy</td>\n",
       "      <td>45.5086</td>\n",
       "      <td>OUT010</td>\n",
       "      <td>1998</td>\n",
       "      <td>Undefined</td>\n",
       "      <td>Tier 3</td>\n",
       "      <td>Grocery Store</td>\n",
       "      <td>178.4344</td>\n",
       "      <td>2</td>\n",
       "    </tr>\n",
       "    <tr>\n",
       "      <th>30</th>\n",
       "      <td>FDV38</td>\n",
       "      <td>19.250</td>\n",
       "      <td>Low Fat</td>\n",
       "      <td>0.170349</td>\n",
       "      <td>Dairy</td>\n",
       "      <td>55.7956</td>\n",
       "      <td>OUT010</td>\n",
       "      <td>1998</td>\n",
       "      <td>Undefined</td>\n",
       "      <td>Tier 3</td>\n",
       "      <td>Grocery Store</td>\n",
       "      <td>163.7868</td>\n",
       "      <td>2</td>\n",
       "    </tr>\n",
       "    <tr>\n",
       "      <th>91</th>\n",
       "      <td>DRG27</td>\n",
       "      <td>8.895</td>\n",
       "      <td>Low Fat</td>\n",
       "      <td>0.105274</td>\n",
       "      <td>Dairy</td>\n",
       "      <td>39.9138</td>\n",
       "      <td>OUT049</td>\n",
       "      <td>1999</td>\n",
       "      <td>Medium</td>\n",
       "      <td>Tier 1</td>\n",
       "      <td>Supermarket</td>\n",
       "      <td>690.4346</td>\n",
       "      <td>2</td>\n",
       "    </tr>\n",
       "    <tr>\n",
       "      <th>127</th>\n",
       "      <td>FDV38</td>\n",
       "      <td>19.250</td>\n",
       "      <td>Low Fat</td>\n",
       "      <td>0.102350</td>\n",
       "      <td>Dairy</td>\n",
       "      <td>52.7956</td>\n",
       "      <td>OUT017</td>\n",
       "      <td>2007</td>\n",
       "      <td>Undefined</td>\n",
       "      <td>Tier 2</td>\n",
       "      <td>Supermarket</td>\n",
       "      <td>928.1252</td>\n",
       "      <td>2</td>\n",
       "    </tr>\n",
       "    <tr>\n",
       "      <th>137</th>\n",
       "      <td>FDB51</td>\n",
       "      <td>6.920</td>\n",
       "      <td>Low Fat</td>\n",
       "      <td>0.038532</td>\n",
       "      <td>Dairy</td>\n",
       "      <td>60.5852</td>\n",
       "      <td>OUT045</td>\n",
       "      <td>2002</td>\n",
       "      <td>Undefined</td>\n",
       "      <td>Tier 2</td>\n",
       "      <td>Supermarket</td>\n",
       "      <td>1314.2892</td>\n",
       "      <td>2</td>\n",
       "    </tr>\n",
       "  </tbody>\n",
       "</table>\n",
       "</div>"
      ],
      "text/plain": [
       "    Item_Identifier  Item_Weight Item_Fat_Content  Item_Visibility Item_Type  \\\n",
       "28            FDE51        5.925          Regular         0.161467     Dairy   \n",
       "30            FDV38       19.250          Low Fat         0.170349     Dairy   \n",
       "91            DRG27        8.895          Low Fat         0.105274     Dairy   \n",
       "127           FDV38       19.250          Low Fat         0.102350     Dairy   \n",
       "137           FDB51        6.920          Low Fat         0.038532     Dairy   \n",
       "\n",
       "     Item_MRP Outlet_Identifier  Outlet_Establishment_Year Outlet_Size  \\\n",
       "28    45.5086            OUT010                       1998   Undefined   \n",
       "30    55.7956            OUT010                       1998   Undefined   \n",
       "91    39.9138            OUT049                       1999      Medium   \n",
       "127   52.7956            OUT017                       2007   Undefined   \n",
       "137   60.5852            OUT045                       2002   Undefined   \n",
       "\n",
       "    Outlet_Location_Type    Outlet_Type  Item_Outlet_Sales  cluster  \n",
       "28                Tier 3  Grocery Store           178.4344        2  \n",
       "30                Tier 3  Grocery Store           163.7868        2  \n",
       "91                Tier 1    Supermarket           690.4346        2  \n",
       "127               Tier 2    Supermarket           928.1252        2  \n",
       "137               Tier 2    Supermarket          1314.2892        2  "
      ]
     },
     "execution_count": 110,
     "metadata": {},
     "output_type": "execute_result"
    }
   ],
   "source": [
    "cluster_2_data.head()"
   ]
  },
  {
   "cell_type": "code",
   "execution_count": 113,
   "id": "356cc3a6",
   "metadata": {
    "ExecuteTime": {
     "end_time": "2024-02-26T17:25:38.795048Z",
     "start_time": "2024-02-26T17:25:38.787429Z"
    }
   },
   "outputs": [
    {
     "data": {
      "text/plain": [
       "(231, 13)"
      ]
     },
     "execution_count": 113,
     "metadata": {},
     "output_type": "execute_result"
    }
   ],
   "source": [
    "cluster_2_data.shape"
   ]
  },
  {
   "cell_type": "code",
   "execution_count": null,
   "id": "6581cc44",
   "metadata": {},
   "outputs": [],
   "source": []
  }
 ],
 "metadata": {
  "kernelspec": {
   "display_name": "Python 3 (ipykernel)",
   "language": "python",
   "name": "python3"
  },
  "language_info": {
   "codemirror_mode": {
    "name": "ipython",
    "version": 3
   },
   "file_extension": ".py",
   "mimetype": "text/x-python",
   "name": "python",
   "nbconvert_exporter": "python",
   "pygments_lexer": "ipython3",
   "version": "3.11.5"
  },
  "toc": {
   "base_numbering": 1,
   "nav_menu": {},
   "number_sections": true,
   "sideBar": true,
   "skip_h1_title": false,
   "title_cell": "Table of Contents",
   "title_sidebar": "Contents",
   "toc_cell": false,
   "toc_position": {},
   "toc_section_display": true,
   "toc_window_display": false
  },
  "varInspector": {
   "cols": {
    "lenName": 16,
    "lenType": 16,
    "lenVar": 40
   },
   "kernels_config": {
    "python": {
     "delete_cmd_postfix": "",
     "delete_cmd_prefix": "del ",
     "library": "var_list.py",
     "varRefreshCmd": "print(var_dic_list())"
    },
    "r": {
     "delete_cmd_postfix": ") ",
     "delete_cmd_prefix": "rm(",
     "library": "var_list.r",
     "varRefreshCmd": "cat(var_dic_list()) "
    }
   },
   "types_to_exclude": [
    "module",
    "function",
    "builtin_function_or_method",
    "instance",
    "_Feature"
   ],
   "window_display": false
  }
 },
 "nbformat": 4,
 "nbformat_minor": 5
}
